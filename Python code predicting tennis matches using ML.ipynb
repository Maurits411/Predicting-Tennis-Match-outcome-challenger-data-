{
 "cells": [
  {
   "cell_type": "code",
   "execution_count": 1,
   "id": "3c7e15c8-46aa-49a4-980c-5a54ec5cf2a8",
   "metadata": {},
   "outputs": [],
   "source": [
    "import pandas as pd\n",
    "import numpy as np\n",
    "from sklearn.model_selection import train_test_split, GridSearchCV, cross_val_score\n",
    "from sklearn.impute import SimpleImputer\n",
    "from sklearn.preprocessing import StandardScaler\n",
    "from sklearn.svm import SVC\n",
    "from sklearn.ensemble import RandomForestClassifier\n",
    "from sklearn.neural_network import MLPClassifier\n",
    "from sklearn.metrics import accuracy_score, confusion_matrix, classification_report\n",
    "from sklearn.preprocessing import MinMaxScaler\n",
    "from sklearn.metrics import precision_score, recall_score\n",
    "\n",
    "import os as os\n",
    "import matplotlib.pyplot as plt\n",
    "import seaborn as sns\n",
    "import numbers\n",
    "\n",
    "from sklearn.preprocessing import LabelEncoder\n",
    "from sklearn.impute import SimpleImputer\n",
    "from sklearn.preprocessing import LabelBinarizer\n",
    "from sklearn.pipeline import Pipeline\n",
    "from sklearn.inspection import permutation_importance"
   ]
  },
  {
   "cell_type": "code",
   "execution_count": 2,
   "id": "692c0283-2513-4f7c-b79e-14adea3cd3e2",
   "metadata": {
    "tags": []
   },
   "outputs": [
    {
     "data": {
      "text/plain": [
       "'C:\\\\Users\\\\Mauri\\\\Downloads'"
      ]
     },
     "execution_count": 2,
     "metadata": {},
     "output_type": "execute_result"
    }
   ],
   "source": [
    "os.getcwd()"
   ]
  },
  {
   "cell_type": "code",
   "execution_count": 3,
   "id": "a3a922f3-0702-45bb-8dc9-7504718c8a04",
   "metadata": {},
   "outputs": [],
   "source": [
    "os.chdir('C:/Users/Mauri/Documents/Master Data Science and Society/Master Thesis DS&S/Data/Tennis Data Master Thesis/Thesis data section')"
   ]
  },
  {
   "cell_type": "code",
   "execution_count": 4,
   "id": "ef67ee14-02c6-4026-8aff-8e347e70962d",
   "metadata": {
    "tags": []
   },
   "outputs": [
    {
     "name": "stdout",
     "output_type": "stream",
     "text": [
      "(55563, 52)\n"
     ]
    }
   ],
   "source": [
    "train_df = pd.read_csv('C:/Users/Mauri/Documents/Master Data Science and Society/Master Thesis DS&S/Data/Tennis Data Master Thesis/Thesis data section/Train/Train data combined 2015-2021.csv')\n",
    "\n",
    "print(train_df.shape)"
   ]
  },
  {
   "cell_type": "code",
   "execution_count": 5,
   "id": "c7f610fc-0521-4f0e-b817-13ed660df46b",
   "metadata": {},
   "outputs": [],
   "source": [
    "my_seed = 101\n",
    "np.random.seed(my_seed)"
   ]
  },
  {
   "cell_type": "code",
   "execution_count": 6,
   "id": "838eb8e1-024b-41d7-967c-194da6c12af4",
   "metadata": {
    "tags": []
   },
   "outputs": [
    {
     "name": "stdout",
     "output_type": "stream",
     "text": [
      "<class 'pandas.core.frame.DataFrame'>\n",
      "RangeIndex: 55563 entries, 0 to 55562\n",
      "Data columns (total 52 columns):\n",
      " #   Column                    Non-Null Count  Dtype  \n",
      "---  ------                    --------------  -----  \n",
      " 0   Source.Name               55563 non-null  object \n",
      " 1   tourney_id                55563 non-null  object \n",
      " 2   tourney_name              55563 non-null  object \n",
      " 3   surface                   55563 non-null  object \n",
      " 4   draw_size                 55563 non-null  int64  \n",
      " 5   tourney_level             55563 non-null  object \n",
      " 6   tourney_date              55563 non-null  int64  \n",
      " 7   match_num                 55563 non-null  int64  \n",
      " 8   winner_id                 55563 non-null  int64  \n",
      " 9   winner_seed               25001 non-null  float64\n",
      " 10  winner_entry              7912 non-null   object \n",
      " 11  winner_name               55563 non-null  object \n",
      " 12  winner_hand               55556 non-null  object \n",
      " 13  winner_ht                 46885 non-null  float64\n",
      " 14  winner_ioc                55563 non-null  object \n",
      " 15  winner_age_years_CORRECT  55563 non-null  float64\n",
      " 16  winner_age                55559 non-null  float64\n",
      " 17  loser_id                  55563 non-null  int64  \n",
      " 18  loser_seed                14985 non-null  float64\n",
      " 19  loser_entry               13814 non-null  object \n",
      " 20  loser_name                55563 non-null  object \n",
      " 21  loser_hand                55530 non-null  object \n",
      " 22  loser_ht                  40506 non-null  float64\n",
      " 23  loser_ioc                 55563 non-null  object \n",
      " 24  loser_age_years_CORRECT   55563 non-null  float64\n",
      " 25  loser_age                 55512 non-null  float64\n",
      " 26  score                     55548 non-null  object \n",
      " 27  best_of                   55563 non-null  int64  \n",
      " 28  round                     55563 non-null  object \n",
      " 29  minutes                   49291 non-null  float64\n",
      " 30  w_ace                     52997 non-null  float64\n",
      " 31  w_df                      52997 non-null  float64\n",
      " 32  w_svpt                    52997 non-null  float64\n",
      " 33  w_1stIn                   52997 non-null  float64\n",
      " 34  w_1stWon                  52997 non-null  float64\n",
      " 35  w_2ndWon                  52997 non-null  float64\n",
      " 36  w_SvGms                   52998 non-null  float64\n",
      " 37  w_bpSaved                 52997 non-null  float64\n",
      " 38  w_bpFaced                 52997 non-null  float64\n",
      " 39  l_ace                     52997 non-null  float64\n",
      " 40  l_df                      52997 non-null  float64\n",
      " 41  l_svpt                    52997 non-null  float64\n",
      " 42  l_1stIn                   52997 non-null  float64\n",
      " 43  l_1stWon                  52997 non-null  float64\n",
      " 44  l_2ndWon                  52997 non-null  float64\n",
      " 45  l_SvGms                   52998 non-null  float64\n",
      " 46  l_bpSaved                 52997 non-null  float64\n",
      " 47  l_bpFaced                 52997 non-null  float64\n",
      " 48  winner_rank               54906 non-null  float64\n",
      " 49  winner_rank_points        54892 non-null  float64\n",
      " 50  loser_rank                52956 non-null  float64\n",
      " 51  loser_rank_points         52941 non-null  float64\n",
      "dtypes: float64(31), int64(6), object(15)\n",
      "memory usage: 22.0+ MB\n"
     ]
    }
   ],
   "source": [
    "train_df.info()"
   ]
  },
  {
   "cell_type": "code",
   "execution_count": 7,
   "id": "ea91a4f3-2c39-420c-833e-1bfb0a18e09d",
   "metadata": {
    "tags": []
   },
   "outputs": [
    {
     "data": {
      "text/html": [
       "<div>\n",
       "<style scoped>\n",
       "    .dataframe tbody tr th:only-of-type {\n",
       "        vertical-align: middle;\n",
       "    }\n",
       "\n",
       "    .dataframe tbody tr th {\n",
       "        vertical-align: top;\n",
       "    }\n",
       "\n",
       "    .dataframe thead th {\n",
       "        text-align: right;\n",
       "    }\n",
       "</style>\n",
       "<table border=\"1\" class=\"dataframe\">\n",
       "  <thead>\n",
       "    <tr style=\"text-align: right;\">\n",
       "      <th></th>\n",
       "      <th>Source.Name</th>\n",
       "      <th>tourney_id</th>\n",
       "      <th>tourney_name</th>\n",
       "      <th>surface</th>\n",
       "      <th>draw_size</th>\n",
       "      <th>tourney_level</th>\n",
       "      <th>tourney_date</th>\n",
       "      <th>match_num</th>\n",
       "      <th>winner_id</th>\n",
       "      <th>winner_seed</th>\n",
       "      <th>...</th>\n",
       "      <th>l_1stIn</th>\n",
       "      <th>l_1stWon</th>\n",
       "      <th>l_2ndWon</th>\n",
       "      <th>l_SvGms</th>\n",
       "      <th>l_bpSaved</th>\n",
       "      <th>l_bpFaced</th>\n",
       "      <th>winner_rank</th>\n",
       "      <th>winner_rank_points</th>\n",
       "      <th>loser_rank</th>\n",
       "      <th>loser_rank_points</th>\n",
       "    </tr>\n",
       "  </thead>\n",
       "  <tbody>\n",
       "    <tr>\n",
       "      <th>0</th>\n",
       "      <td>atp_matches_qual_chall_2015.csv</td>\n",
       "      <td>2015-1536</td>\n",
       "      <td>Madrid Masters</td>\n",
       "      <td>Clay</td>\n",
       "      <td>56</td>\n",
       "      <td>M</td>\n",
       "      <td>20150503</td>\n",
       "      <td>32283</td>\n",
       "      <td>104268</td>\n",
       "      <td>NaN</td>\n",
       "      <td>...</td>\n",
       "      <td>30.0</td>\n",
       "      <td>16.0</td>\n",
       "      <td>8.0</td>\n",
       "      <td>8.0</td>\n",
       "      <td>2.0</td>\n",
       "      <td>6.0</td>\n",
       "      <td>118.0</td>\n",
       "      <td>476.0</td>\n",
       "      <td>52.0</td>\n",
       "      <td>894.0</td>\n",
       "    </tr>\n",
       "    <tr>\n",
       "      <th>1</th>\n",
       "      <td>atp_matches_qual_chall_2015.csv</td>\n",
       "      <td>2015-1536</td>\n",
       "      <td>Madrid Masters</td>\n",
       "      <td>Clay</td>\n",
       "      <td>56</td>\n",
       "      <td>M</td>\n",
       "      <td>20150503</td>\n",
       "      <td>32284</td>\n",
       "      <td>106148</td>\n",
       "      <td>NaN</td>\n",
       "      <td>...</td>\n",
       "      <td>50.0</td>\n",
       "      <td>31.0</td>\n",
       "      <td>10.0</td>\n",
       "      <td>9.0</td>\n",
       "      <td>7.0</td>\n",
       "      <td>10.0</td>\n",
       "      <td>194.0</td>\n",
       "      <td>245.0</td>\n",
       "      <td>107.0</td>\n",
       "      <td>503.0</td>\n",
       "    </tr>\n",
       "    <tr>\n",
       "      <th>2</th>\n",
       "      <td>atp_matches_qual_chall_2015.csv</td>\n",
       "      <td>2015-1536</td>\n",
       "      <td>Madrid Masters</td>\n",
       "      <td>Clay</td>\n",
       "      <td>56</td>\n",
       "      <td>M</td>\n",
       "      <td>20150503</td>\n",
       "      <td>32285</td>\n",
       "      <td>105311</td>\n",
       "      <td>2.0</td>\n",
       "      <td>...</td>\n",
       "      <td>60.0</td>\n",
       "      <td>40.0</td>\n",
       "      <td>15.0</td>\n",
       "      <td>14.0</td>\n",
       "      <td>7.0</td>\n",
       "      <td>10.0</td>\n",
       "      <td>56.0</td>\n",
       "      <td>852.0</td>\n",
       "      <td>126.0</td>\n",
       "      <td>432.0</td>\n",
       "    </tr>\n",
       "    <tr>\n",
       "      <th>3</th>\n",
       "      <td>atp_matches_qual_chall_2015.csv</td>\n",
       "      <td>2015-1536</td>\n",
       "      <td>Madrid Masters</td>\n",
       "      <td>Clay</td>\n",
       "      <td>56</td>\n",
       "      <td>M</td>\n",
       "      <td>20150503</td>\n",
       "      <td>32286</td>\n",
       "      <td>105292</td>\n",
       "      <td>14.0</td>\n",
       "      <td>...</td>\n",
       "      <td>82.0</td>\n",
       "      <td>54.0</td>\n",
       "      <td>17.0</td>\n",
       "      <td>17.0</td>\n",
       "      <td>8.0</td>\n",
       "      <td>11.0</td>\n",
       "      <td>105.0</td>\n",
       "      <td>507.0</td>\n",
       "      <td>135.0</td>\n",
       "      <td>413.0</td>\n",
       "    </tr>\n",
       "    <tr>\n",
       "      <th>4</th>\n",
       "      <td>atp_matches_qual_chall_2015.csv</td>\n",
       "      <td>2015-1536</td>\n",
       "      <td>Madrid Masters</td>\n",
       "      <td>Clay</td>\n",
       "      <td>56</td>\n",
       "      <td>M</td>\n",
       "      <td>20150503</td>\n",
       "      <td>32287</td>\n",
       "      <td>104386</td>\n",
       "      <td>NaN</td>\n",
       "      <td>...</td>\n",
       "      <td>22.0</td>\n",
       "      <td>16.0</td>\n",
       "      <td>11.0</td>\n",
       "      <td>9.0</td>\n",
       "      <td>5.0</td>\n",
       "      <td>9.0</td>\n",
       "      <td>528.0</td>\n",
       "      <td>60.0</td>\n",
       "      <td>61.0</td>\n",
       "      <td>815.0</td>\n",
       "    </tr>\n",
       "  </tbody>\n",
       "</table>\n",
       "<p>5 rows × 52 columns</p>\n",
       "</div>"
      ],
      "text/plain": [
       "                       Source.Name tourney_id    tourney_name surface  \\\n",
       "0  atp_matches_qual_chall_2015.csv  2015-1536  Madrid Masters    Clay   \n",
       "1  atp_matches_qual_chall_2015.csv  2015-1536  Madrid Masters    Clay   \n",
       "2  atp_matches_qual_chall_2015.csv  2015-1536  Madrid Masters    Clay   \n",
       "3  atp_matches_qual_chall_2015.csv  2015-1536  Madrid Masters    Clay   \n",
       "4  atp_matches_qual_chall_2015.csv  2015-1536  Madrid Masters    Clay   \n",
       "\n",
       "   draw_size tourney_level  tourney_date  match_num  winner_id  winner_seed  \\\n",
       "0         56             M      20150503      32283     104268          NaN   \n",
       "1         56             M      20150503      32284     106148          NaN   \n",
       "2         56             M      20150503      32285     105311          2.0   \n",
       "3         56             M      20150503      32286     105292         14.0   \n",
       "4         56             M      20150503      32287     104386          NaN   \n",
       "\n",
       "   ... l_1stIn l_1stWon l_2ndWon  l_SvGms l_bpSaved  l_bpFaced  winner_rank  \\\n",
       "0  ...    30.0     16.0      8.0      8.0       2.0        6.0        118.0   \n",
       "1  ...    50.0     31.0     10.0      9.0       7.0       10.0        194.0   \n",
       "2  ...    60.0     40.0     15.0     14.0       7.0       10.0         56.0   \n",
       "3  ...    82.0     54.0     17.0     17.0       8.0       11.0        105.0   \n",
       "4  ...    22.0     16.0     11.0      9.0       5.0        9.0        528.0   \n",
       "\n",
       "   winner_rank_points  loser_rank loser_rank_points  \n",
       "0               476.0        52.0             894.0  \n",
       "1               245.0       107.0             503.0  \n",
       "2               852.0       126.0             432.0  \n",
       "3               507.0       135.0             413.0  \n",
       "4                60.0        61.0             815.0  \n",
       "\n",
       "[5 rows x 52 columns]"
      ]
     },
     "execution_count": 7,
     "metadata": {},
     "output_type": "execute_result"
    }
   ],
   "source": [
    "train_df.head()"
   ]
  },
  {
   "cell_type": "code",
   "execution_count": 8,
   "id": "b41bfa86-cc62-4d6e-9e44-86254dcb8808",
   "metadata": {},
   "outputs": [],
   "source": [
    "train2_df = train_df.drop(columns=['Source.Name','tourney_level','winner_age','loser_age',\n",
    "                                   'winner_seed','loser_seed','winner_entry','loser_entry'])                                                    "
   ]
  },
  {
   "cell_type": "code",
   "execution_count": 9,
   "id": "4fa5ec69-cbbe-4f80-a2b4-7d2a9eadb272",
   "metadata": {
    "tags": []
   },
   "outputs": [
    {
     "name": "stdout",
     "output_type": "stream",
     "text": [
      "<class 'pandas.core.frame.DataFrame'>\n",
      "RangeIndex: 55563 entries, 0 to 55562\n",
      "Data columns (total 44 columns):\n",
      " #   Column                    Non-Null Count  Dtype  \n",
      "---  ------                    --------------  -----  \n",
      " 0   tourney_id                55563 non-null  object \n",
      " 1   tourney_name              55563 non-null  object \n",
      " 2   surface                   55563 non-null  object \n",
      " 3   draw_size                 55563 non-null  int64  \n",
      " 4   tourney_date              55563 non-null  int64  \n",
      " 5   match_num                 55563 non-null  int64  \n",
      " 6   winner_id                 55563 non-null  int64  \n",
      " 7   winner_name               55563 non-null  object \n",
      " 8   winner_hand               55556 non-null  object \n",
      " 9   winner_ht                 46885 non-null  float64\n",
      " 10  winner_ioc                55563 non-null  object \n",
      " 11  winner_age_years_CORRECT  55563 non-null  float64\n",
      " 12  loser_id                  55563 non-null  int64  \n",
      " 13  loser_name                55563 non-null  object \n",
      " 14  loser_hand                55530 non-null  object \n",
      " 15  loser_ht                  40506 non-null  float64\n",
      " 16  loser_ioc                 55563 non-null  object \n",
      " 17  loser_age_years_CORRECT   55563 non-null  float64\n",
      " 18  score                     55548 non-null  object \n",
      " 19  best_of                   55563 non-null  int64  \n",
      " 20  round                     55563 non-null  object \n",
      " 21  minutes                   49291 non-null  float64\n",
      " 22  w_ace                     52997 non-null  float64\n",
      " 23  w_df                      52997 non-null  float64\n",
      " 24  w_svpt                    52997 non-null  float64\n",
      " 25  w_1stIn                   52997 non-null  float64\n",
      " 26  w_1stWon                  52997 non-null  float64\n",
      " 27  w_2ndWon                  52997 non-null  float64\n",
      " 28  w_SvGms                   52998 non-null  float64\n",
      " 29  w_bpSaved                 52997 non-null  float64\n",
      " 30  w_bpFaced                 52997 non-null  float64\n",
      " 31  l_ace                     52997 non-null  float64\n",
      " 32  l_df                      52997 non-null  float64\n",
      " 33  l_svpt                    52997 non-null  float64\n",
      " 34  l_1stIn                   52997 non-null  float64\n",
      " 35  l_1stWon                  52997 non-null  float64\n",
      " 36  l_2ndWon                  52997 non-null  float64\n",
      " 37  l_SvGms                   52998 non-null  float64\n",
      " 38  l_bpSaved                 52997 non-null  float64\n",
      " 39  l_bpFaced                 52997 non-null  float64\n",
      " 40  winner_rank               54906 non-null  float64\n",
      " 41  winner_rank_points        54892 non-null  float64\n",
      " 42  loser_rank                52956 non-null  float64\n",
      " 43  loser_rank_points         52941 non-null  float64\n",
      "dtypes: float64(27), int64(6), object(11)\n",
      "memory usage: 18.7+ MB\n"
     ]
    }
   ],
   "source": [
    "train2_df.info()"
   ]
  },
  {
   "cell_type": "code",
   "execution_count": 10,
   "id": "53395cbc-50ed-42f7-bc03-4b42f92dea07",
   "metadata": {
    "tags": []
   },
   "outputs": [
    {
     "name": "stdout",
     "output_type": "stream",
     "text": [
      "                Feature name  None values count  None values percent\n",
      "0                 tourney_id                  0             0.000000\n",
      "1               tourney_name                  0             0.000000\n",
      "2                    surface                  0             0.000000\n",
      "3                  draw_size                  0             0.000000\n",
      "4               tourney_date                  0             0.000000\n",
      "5                  match_num                  0             0.000000\n",
      "6                  winner_id                  0             0.000000\n",
      "7                winner_name                  0             0.000000\n",
      "8                winner_hand                  7             0.012598\n",
      "9                  winner_ht               8678            15.618307\n",
      "10                winner_ioc                  0             0.000000\n",
      "11  winner_age_years_CORRECT                  0             0.000000\n",
      "12                  loser_id                  0             0.000000\n",
      "13                loser_name                  0             0.000000\n",
      "14                loser_hand                 33             0.059392\n",
      "15                  loser_ht              15057            27.098969\n",
      "16                 loser_ioc                  0             0.000000\n",
      "17   loser_age_years_CORRECT                  0             0.000000\n",
      "18                     score                 15             0.026996\n",
      "19                   best_of                  0             0.000000\n",
      "20                     round                  0             0.000000\n",
      "21                   minutes               6272            11.288087\n",
      "22                     w_ace               2566             4.618181\n",
      "23                      w_df               2566             4.618181\n",
      "24                    w_svpt               2566             4.618181\n",
      "25                   w_1stIn               2566             4.618181\n",
      "26                  w_1stWon               2566             4.618181\n",
      "27                  w_2ndWon               2566             4.618181\n",
      "28                   w_SvGms               2565             4.616381\n",
      "29                 w_bpSaved               2566             4.618181\n",
      "30                 w_bpFaced               2566             4.618181\n",
      "31                     l_ace               2566             4.618181\n",
      "32                      l_df               2566             4.618181\n",
      "33                    l_svpt               2566             4.618181\n",
      "34                   l_1stIn               2566             4.618181\n",
      "35                  l_1stWon               2566             4.618181\n",
      "36                  l_2ndWon               2566             4.618181\n",
      "37                   l_SvGms               2565             4.616381\n",
      "38                 l_bpSaved               2566             4.618181\n",
      "39                 l_bpFaced               2566             4.618181\n",
      "40               winner_rank                657             1.182442\n",
      "41        winner_rank_points                671             1.207638\n",
      "42                loser_rank               2607             4.691971\n",
      "43         loser_rank_points               2622             4.718968\n"
     ]
    }
   ],
   "source": [
    "none_percent = train2_df.isnull().sum() * 100 / len(train2_df)\n",
    "none_values_train2_df = pd.DataFrame({'Feature name': train2_df.columns, 'None values count': train2_df.isnull().sum(),\n",
    "                                 'None values percent': none_percent})\n",
    "print(none_values_train2_df.reset_index().drop(columns=['index']))"
   ]
  },
  {
   "cell_type": "code",
   "execution_count": 11,
   "id": "14e9e32c-0430-49bc-99f3-f7b6a41917ed",
   "metadata": {
    "tags": []
   },
   "outputs": [
    {
     "name": "stdout",
     "output_type": "stream",
     "text": [
      "<class 'pandas.core.frame.DataFrame'>\n",
      "RangeIndex: 46389 entries, 0 to 46388\n",
      "Data columns (total 44 columns):\n",
      " #   Column                    Non-Null Count  Dtype  \n",
      "---  ------                    --------------  -----  \n",
      " 0   tourney_id                46389 non-null  object \n",
      " 1   tourney_name              46389 non-null  object \n",
      " 2   surface                   46389 non-null  object \n",
      " 3   draw_size                 46389 non-null  int64  \n",
      " 4   tourney_date              46389 non-null  int64  \n",
      " 5   match_num                 46389 non-null  int64  \n",
      " 6   winner_id                 46389 non-null  int64  \n",
      " 7   winner_name               46389 non-null  object \n",
      " 8   winner_hand               46389 non-null  object \n",
      " 9   winner_ht                 39664 non-null  float64\n",
      " 10  winner_ioc                46389 non-null  object \n",
      " 11  winner_age_years_CORRECT  46389 non-null  float64\n",
      " 12  loser_id                  46389 non-null  int64  \n",
      " 13  loser_name                46389 non-null  object \n",
      " 14  loser_hand                46371 non-null  object \n",
      " 15  loser_ht                  34943 non-null  float64\n",
      " 16  loser_ioc                 46389 non-null  object \n",
      " 17  loser_age_years_CORRECT   46389 non-null  float64\n",
      " 18  score                     46389 non-null  object \n",
      " 19  best_of                   46389 non-null  int64  \n",
      " 20  round                     46389 non-null  object \n",
      " 21  minutes                   46389 non-null  float64\n",
      " 22  w_ace                     46293 non-null  float64\n",
      " 23  w_df                      46293 non-null  float64\n",
      " 24  w_svpt                    46293 non-null  float64\n",
      " 25  w_1stIn                   46293 non-null  float64\n",
      " 26  w_1stWon                  46293 non-null  float64\n",
      " 27  w_2ndWon                  46293 non-null  float64\n",
      " 28  w_SvGms                   46293 non-null  float64\n",
      " 29  w_bpSaved                 46293 non-null  float64\n",
      " 30  w_bpFaced                 46293 non-null  float64\n",
      " 31  l_ace                     46293 non-null  float64\n",
      " 32  l_df                      46293 non-null  float64\n",
      " 33  l_svpt                    46293 non-null  float64\n",
      " 34  l_1stIn                   46293 non-null  float64\n",
      " 35  l_1stWon                  46293 non-null  float64\n",
      " 36  l_2ndWon                  46293 non-null  float64\n",
      " 37  l_SvGms                   46293 non-null  float64\n",
      " 38  l_bpSaved                 46293 non-null  float64\n",
      " 39  l_bpFaced                 46293 non-null  float64\n",
      " 40  winner_rank               46389 non-null  float64\n",
      " 41  winner_rank_points        46389 non-null  float64\n",
      " 42  loser_rank                46389 non-null  float64\n",
      " 43  loser_rank_points         46389 non-null  float64\n",
      "dtypes: float64(27), int64(6), object(11)\n",
      "memory usage: 15.6+ MB\n"
     ]
    }
   ],
   "source": [
    "train2_df.dropna(subset=['winner_rank_points', 'loser_rank_points','winner_rank','loser_rank','winner_hand','minutes'], inplace=True)\n",
    "train3_df = train2_df.reset_index(drop=True)\n",
    "train3_df.info()"
   ]
  },
  {
   "cell_type": "code",
   "execution_count": 12,
   "id": "6cee286f-f9d9-45ec-a33f-0f0f508e2423",
   "metadata": {
    "tags": []
   },
   "outputs": [
    {
     "name": "stdout",
     "output_type": "stream",
     "text": [
      "                Feature name  None values count  None values percent\n",
      "0                 tourney_id                  0             0.000000\n",
      "1               tourney_name                  0             0.000000\n",
      "2                    surface                  0             0.000000\n",
      "3                  draw_size                  0             0.000000\n",
      "4               tourney_date                  0             0.000000\n",
      "5                  match_num                  0             0.000000\n",
      "6                  winner_id                  0             0.000000\n",
      "7                winner_name                  0             0.000000\n",
      "8                winner_hand                  0             0.000000\n",
      "9                  winner_ht               6725            14.496971\n",
      "10                winner_ioc                  0             0.000000\n",
      "11  winner_age_years_CORRECT                  0             0.000000\n",
      "12                  loser_id                  0             0.000000\n",
      "13                loser_name                  0             0.000000\n",
      "14                loser_hand                 18             0.038802\n",
      "15                  loser_ht              11446            24.673953\n",
      "16                 loser_ioc                  0             0.000000\n",
      "17   loser_age_years_CORRECT                  0             0.000000\n",
      "18                     score                  0             0.000000\n",
      "19                   best_of                  0             0.000000\n",
      "20                     round                  0             0.000000\n",
      "21                   minutes                  0             0.000000\n",
      "22                     w_ace                 96             0.206946\n",
      "23                      w_df                 96             0.206946\n",
      "24                    w_svpt                 96             0.206946\n",
      "25                   w_1stIn                 96             0.206946\n",
      "26                  w_1stWon                 96             0.206946\n",
      "27                  w_2ndWon                 96             0.206946\n",
      "28                   w_SvGms                 96             0.206946\n",
      "29                 w_bpSaved                 96             0.206946\n",
      "30                 w_bpFaced                 96             0.206946\n",
      "31                     l_ace                 96             0.206946\n",
      "32                      l_df                 96             0.206946\n",
      "33                    l_svpt                 96             0.206946\n",
      "34                   l_1stIn                 96             0.206946\n",
      "35                  l_1stWon                 96             0.206946\n",
      "36                  l_2ndWon                 96             0.206946\n",
      "37                   l_SvGms                 96             0.206946\n",
      "38                 l_bpSaved                 96             0.206946\n",
      "39                 l_bpFaced                 96             0.206946\n",
      "40               winner_rank                  0             0.000000\n",
      "41        winner_rank_points                  0             0.000000\n",
      "42                loser_rank                  0             0.000000\n",
      "43         loser_rank_points                  0             0.000000\n"
     ]
    }
   ],
   "source": [
    "none_percent = train3_df.isnull().sum() * 100 / len(train3_df)\n",
    "none_values_train3_df = pd.DataFrame({'Feature name': train3_df.columns, 'None values count': train3_df.isnull().sum(),\n",
    "                                 'None values percent': none_percent})\n",
    "print(none_values_train3_df.reset_index().drop(columns=['index']))"
   ]
  },
  {
   "cell_type": "code",
   "execution_count": 13,
   "id": "adc07713-58bf-409f-b6be-6ccecc12c893",
   "metadata": {},
   "outputs": [],
   "source": [
    "train3_df = train3_df.drop(columns=['l_SvGms', 'w_SvGms', 'tourney_id', 'tourney_name',\n",
    "                                    'winner_name', 'loser_name',])"
   ]
  },
  {
   "cell_type": "code",
   "execution_count": 14,
   "id": "c6bdcc7c-8e01-4d24-8423-71604d06dd68",
   "metadata": {},
   "outputs": [],
   "source": [
    "train3_df = train3_df.rename(columns={\"winner_age_years_CORRECT\": \"winner_age\",\n",
    "                                      \"loser_age_years_CORRECT\": \"loser_age\"},) "
   ]
  },
  {
   "cell_type": "code",
   "execution_count": 15,
   "id": "63b12eee-a9f8-46d7-9577-ff0795440e3a",
   "metadata": {
    "tags": []
   },
   "outputs": [
    {
     "name": "stdout",
     "output_type": "stream",
     "text": [
      "<class 'pandas.core.frame.DataFrame'>\n",
      "RangeIndex: 46389 entries, 0 to 46388\n",
      "Data columns (total 38 columns):\n",
      " #   Column              Non-Null Count  Dtype  \n",
      "---  ------              --------------  -----  \n",
      " 0   surface             46389 non-null  object \n",
      " 1   draw_size           46389 non-null  int64  \n",
      " 2   tourney_date        46389 non-null  int64  \n",
      " 3   match_num           46389 non-null  int64  \n",
      " 4   winner_id           46389 non-null  int64  \n",
      " 5   winner_hand         46389 non-null  object \n",
      " 6   winner_ht           39664 non-null  float64\n",
      " 7   winner_ioc          46389 non-null  object \n",
      " 8   winner_age          46389 non-null  float64\n",
      " 9   loser_id            46389 non-null  int64  \n",
      " 10  loser_hand          46371 non-null  object \n",
      " 11  loser_ht            34943 non-null  float64\n",
      " 12  loser_ioc           46389 non-null  object \n",
      " 13  loser_age           46389 non-null  float64\n",
      " 14  score               46389 non-null  object \n",
      " 15  best_of             46389 non-null  int64  \n",
      " 16  round               46389 non-null  object \n",
      " 17  minutes             46389 non-null  float64\n",
      " 18  w_ace               46293 non-null  float64\n",
      " 19  w_df                46293 non-null  float64\n",
      " 20  w_svpt              46293 non-null  float64\n",
      " 21  w_1stIn             46293 non-null  float64\n",
      " 22  w_1stWon            46293 non-null  float64\n",
      " 23  w_2ndWon            46293 non-null  float64\n",
      " 24  w_bpSaved           46293 non-null  float64\n",
      " 25  w_bpFaced           46293 non-null  float64\n",
      " 26  l_ace               46293 non-null  float64\n",
      " 27  l_df                46293 non-null  float64\n",
      " 28  l_svpt              46293 non-null  float64\n",
      " 29  l_1stIn             46293 non-null  float64\n",
      " 30  l_1stWon            46293 non-null  float64\n",
      " 31  l_2ndWon            46293 non-null  float64\n",
      " 32  l_bpSaved           46293 non-null  float64\n",
      " 33  l_bpFaced           46293 non-null  float64\n",
      " 34  winner_rank         46389 non-null  float64\n",
      " 35  winner_rank_points  46389 non-null  float64\n",
      " 36  loser_rank          46389 non-null  float64\n",
      " 37  loser_rank_points   46389 non-null  float64\n",
      "dtypes: float64(25), int64(6), object(7)\n",
      "memory usage: 13.4+ MB\n"
     ]
    }
   ],
   "source": [
    "train3_df.info()"
   ]
  },
  {
   "cell_type": "code",
   "execution_count": 16,
   "id": "deeaba6b-4855-4ac1-ad08-c9d91066ac3b",
   "metadata": {},
   "outputs": [],
   "source": [
    "train3_df['tourney_year'] = train3_df.tourney_date.astype(str).str[:4].astype(int)\n",
    "train3_df['tourney_month'] = train3_df.tourney_date.astype(str).str[4:6].astype(int)\n",
    "train3_df = train3_df.drop(columns=['tourney_date'])"
   ]
  },
  {
   "cell_type": "code",
   "execution_count": 17,
   "id": "d717bc20-5b0a-4f63-a3bf-ad8dc4a3a146",
   "metadata": {},
   "outputs": [],
   "source": [
    "train3_df = train3_df.drop(columns=['score']) "
   ]
  },
  {
   "cell_type": "code",
   "execution_count": 18,
   "id": "326ec0a9-ca10-47f9-bb9f-d1c69ec51580",
   "metadata": {
    "tags": []
   },
   "outputs": [
    {
     "name": "stdout",
     "output_type": "stream",
     "text": [
      "<class 'pandas.core.frame.DataFrame'>\n",
      "RangeIndex: 46389 entries, 0 to 46388\n",
      "Data columns (total 38 columns):\n",
      " #   Column              Non-Null Count  Dtype  \n",
      "---  ------              --------------  -----  \n",
      " 0   surface             46389 non-null  object \n",
      " 1   draw_size           46389 non-null  int64  \n",
      " 2   match_num           46389 non-null  int64  \n",
      " 3   winner_id           46389 non-null  int64  \n",
      " 4   winner_hand         46389 non-null  int32  \n",
      " 5   winner_ht           39664 non-null  float64\n",
      " 6   winner_ioc          46389 non-null  int32  \n",
      " 7   winner_age          46389 non-null  float64\n",
      " 8   loser_id            46389 non-null  int64  \n",
      " 9   loser_hand          46389 non-null  int32  \n",
      " 10  loser_ht            34943 non-null  float64\n",
      " 11  loser_ioc           46389 non-null  int32  \n",
      " 12  loser_age           46389 non-null  float64\n",
      " 13  best_of             46389 non-null  int64  \n",
      " 14  round               46389 non-null  int32  \n",
      " 15  minutes             46389 non-null  float64\n",
      " 16  w_ace               46293 non-null  float64\n",
      " 17  w_df                46293 non-null  float64\n",
      " 18  w_svpt              46293 non-null  float64\n",
      " 19  w_1stIn             46293 non-null  float64\n",
      " 20  w_1stWon            46293 non-null  float64\n",
      " 21  w_2ndWon            46293 non-null  float64\n",
      " 22  w_bpSaved           46293 non-null  float64\n",
      " 23  w_bpFaced           46293 non-null  float64\n",
      " 24  l_ace               46293 non-null  float64\n",
      " 25  l_df                46293 non-null  float64\n",
      " 26  l_svpt              46293 non-null  float64\n",
      " 27  l_1stIn             46293 non-null  float64\n",
      " 28  l_1stWon            46293 non-null  float64\n",
      " 29  l_2ndWon            46293 non-null  float64\n",
      " 30  l_bpSaved           46293 non-null  float64\n",
      " 31  l_bpFaced           46293 non-null  float64\n",
      " 32  winner_rank         46389 non-null  float64\n",
      " 33  winner_rank_points  46389 non-null  float64\n",
      " 34  loser_rank          46389 non-null  float64\n",
      " 35  loser_rank_points   46389 non-null  float64\n",
      " 36  tourney_year        46389 non-null  int32  \n",
      " 37  tourney_month       46389 non-null  int32  \n",
      "dtypes: float64(25), int32(7), int64(5), object(1)\n",
      "memory usage: 12.2+ MB\n"
     ]
    }
   ],
   "source": [
    "hand_encoder = LabelEncoder()\n",
    "train3_df['loser_hand'] = hand_encoder.fit_transform(train3_df['loser_hand'].astype(str))\n",
    "train3_df['winner_hand'] = hand_encoder.transform(train3_df['winner_hand'].astype(str))\n",
    "\n",
    "train3_df['loser_ioc'] = LabelEncoder().fit_transform(train3_df['loser_ioc'].astype(str))\n",
    "train3_df['winner_ioc'] = LabelEncoder().fit_transform(train3_df['winner_ioc'].astype(str))\n",
    "\n",
    "train3_df['round'] = LabelEncoder().fit_transform(train3_df['round'].astype(str))\n",
    "\n",
    "train3_df.info()"
   ]
  },
  {
   "cell_type": "code",
   "execution_count": 19,
   "id": "5d881324-3d7f-4f5e-a77f-3d4fd76be3b9",
   "metadata": {},
   "outputs": [],
   "source": [
    "train3_df.loc[train3_df[\"surface\"] == \"Clay\", \"surface\"] = 0\n",
    "train3_df.loc[train3_df[\"surface\"] == \"Hard\", \"surface\"] = 1\n",
    "train3_df.loc[train3_df[\"surface\"] == \"Grass\", \"surface\"] = 2\n",
    "train3_df.loc[train3_df[\"surface\"] == \"Carpet\", \"surface\"] = 4"
   ]
  },
  {
   "cell_type": "code",
   "execution_count": 20,
   "id": "fa24f44a-398d-49bc-8d24-45a82840f5b6",
   "metadata": {
    "tags": []
   },
   "outputs": [
    {
     "name": "stdout",
     "output_type": "stream",
     "text": [
      "<class 'pandas.core.frame.DataFrame'>\n",
      "RangeIndex: 46389 entries, 0 to 46388\n",
      "Data columns (total 38 columns):\n",
      " #   Column              Non-Null Count  Dtype  \n",
      "---  ------              --------------  -----  \n",
      " 0   surface             46389 non-null  float64\n",
      " 1   draw_size           46389 non-null  float64\n",
      " 2   match_num           46389 non-null  float64\n",
      " 3   winner_id           46389 non-null  float64\n",
      " 4   winner_hand         46389 non-null  float64\n",
      " 5   winner_ht           46389 non-null  float64\n",
      " 6   winner_ioc          46389 non-null  float64\n",
      " 7   winner_age          46389 non-null  float64\n",
      " 8   loser_id            46389 non-null  float64\n",
      " 9   loser_hand          46389 non-null  float64\n",
      " 10  loser_ht            46389 non-null  float64\n",
      " 11  loser_ioc           46389 non-null  float64\n",
      " 12  loser_age           46389 non-null  float64\n",
      " 13  best_of             46389 non-null  float64\n",
      " 14  round               46389 non-null  float64\n",
      " 15  minutes             46389 non-null  float64\n",
      " 16  w_ace               46389 non-null  float64\n",
      " 17  w_df                46389 non-null  float64\n",
      " 18  w_svpt              46389 non-null  float64\n",
      " 19  w_1stIn             46389 non-null  float64\n",
      " 20  w_1stWon            46389 non-null  float64\n",
      " 21  w_2ndWon            46389 non-null  float64\n",
      " 22  w_bpSaved           46389 non-null  float64\n",
      " 23  w_bpFaced           46389 non-null  float64\n",
      " 24  l_ace               46389 non-null  float64\n",
      " 25  l_df                46389 non-null  float64\n",
      " 26  l_svpt              46389 non-null  float64\n",
      " 27  l_1stIn             46389 non-null  float64\n",
      " 28  l_1stWon            46389 non-null  float64\n",
      " 29  l_2ndWon            46389 non-null  float64\n",
      " 30  l_bpSaved           46389 non-null  float64\n",
      " 31  l_bpFaced           46389 non-null  float64\n",
      " 32  winner_rank         46389 non-null  float64\n",
      " 33  winner_rank_points  46389 non-null  float64\n",
      " 34  loser_rank          46389 non-null  float64\n",
      " 35  loser_rank_points   46389 non-null  float64\n",
      " 36  tourney_year        46389 non-null  float64\n",
      " 37  tourney_month       46389 non-null  float64\n",
      "dtypes: float64(38)\n",
      "memory usage: 13.4 MB\n"
     ]
    }
   ],
   "source": [
    "train3_df_imputed = pd.DataFrame(SimpleImputer().fit_transform(train3_df))\n",
    "train3_df_imputed.columns = train3_df.columns\n",
    "train3_df_imputed.index = train3_df.index\n",
    "train3_df = train3_df_imputed.copy()\n",
    "\n",
    "train3_df.info()"
   ]
  },
  {
   "cell_type": "code",
   "execution_count": 21,
   "id": "ace8f0ef-d539-4971-a853-35a1aa96e152",
   "metadata": {
    "tags": []
   },
   "outputs": [],
   "source": [
    "train3_df = train3_df.rename(columns={\"loser_age\": \"first_age\", \"loser_entry\": \"first_entry\", \"loser_hand\": \"first_hand\",\n",
    "                       \"loser_ht\": \"first_ht\", \"loser_id\": \"first_id\", \"loser_ioc\": \"first_ioc\",\n",
    "                       \"loser_rank\": \"first_rank\", \"loser_rank_points\": \"first_rank_points\",\n",
    "                       \"loser_seed\": \"first_seed\", \"l_ace\": \"first_ace\", \"l_df\": \"first_df\",\n",
    "                       \"l_svpt\": \"first_svpt\", \"l_1stIn\": \"first_1stIn\", \"l_1stWon\": \"first_1stWon\",\n",
    "                       \"l_2ndWon\": \"first_2ndWon\", \"l_bpSaved\": \"first_bpSaved\", \"l_bpFaced\": \"first_bpFaced\",   \n",
    "                \n",
    "                       \"winner_age\": \"second_age\", \"winner_entry\": \"second_entry\",\"winner_hand\": \"second_hand\",\n",
    "                       \"winner_ht\": \"second_ht\", \"winner_id\": \"second_id\", \"winner_ioc\": \"second_ioc\",\n",
    "                       \"winner_rank\": \"second_rank\", \"winner_rank_points\": \"second_rank_points\",\n",
    "                       \"winner_seed\": \"second_seed\", \"w_ace\": \"second_ace\", \"w_df\": \"second_df\",\n",
    "                       \"w_svpt\": \"second_svpt\", \"w_1stIn\": \"second_1stIn\", \"w_1stWon\": \"second_1stWon\",\n",
    "                       \"w_2ndWon\": \"second_2ndWon\", \"w_bpSaved\": \"second_bpSaved\", \"w_bpFaced\": \"second_bpFaced\"\n",
    "                       },)\n"
   ]
  },
  {
   "cell_type": "code",
   "execution_count": 22,
   "id": "a410c68b-66e4-492f-a83d-ec650d63027d",
   "metadata": {
    "tags": []
   },
   "outputs": [],
   "source": [
    "copy_2_df = train3_df.copy()\n",
    "copy_2_df[[ 'first_age','first_hand','first_ht','first_id','first_ioc','first_rank','first_rank_points', 'first_ace', 'first_df', 'first_svpt', 'first_1stIn', 'first_1stWon',\n",
    "            'first_2ndWon', 'first_bpSaved', 'first_bpFaced',\n",
    "            'second_age','second_hand','second_ht','second_id','second_ioc','second_rank','second_rank_points', 'second_ace', 'second_df', 'second_svpt', 'second_1stIn', 'second_1stWon',\n",
    "            'second_2ndWon', 'second_bpSaved', 'second_bpFaced']]\\\n",
    "=copy_2_df[['second_age','second_hand','second_ht','second_id','second_ioc','second_rank','second_rank_points','second_ace', 'second_df', 'second_svpt', 'second_1stIn', 'second_1stWon',\n",
    "            'second_2ndWon', 'second_bpSaved', 'second_bpFaced',\n",
    "            'first_age','first_hand','first_ht','first_id','first_ioc','first_rank','first_rank_points','first_ace', 'first_df', 'first_svpt', 'first_1stIn', 'first_1stWon',\n",
    "            'first_2ndWon', 'first_bpSaved', 'first_bpFaced']]"
   ]
  },
  {
   "cell_type": "code",
   "execution_count": 23,
   "id": "bf8c6772-fda4-4c7a-9d88-69c50b62aade",
   "metadata": {
    "tags": []
   },
   "outputs": [
    {
     "data": {
      "text/html": [
       "<div>\n",
       "<style scoped>\n",
       "    .dataframe tbody tr th:only-of-type {\n",
       "        vertical-align: middle;\n",
       "    }\n",
       "\n",
       "    .dataframe tbody tr th {\n",
       "        vertical-align: top;\n",
       "    }\n",
       "\n",
       "    .dataframe thead th {\n",
       "        text-align: right;\n",
       "    }\n",
       "</style>\n",
       "<table border=\"1\" class=\"dataframe\">\n",
       "  <thead>\n",
       "    <tr style=\"text-align: right;\">\n",
       "      <th></th>\n",
       "      <th>surface</th>\n",
       "      <th>draw_size</th>\n",
       "      <th>match_num</th>\n",
       "      <th>second_id</th>\n",
       "      <th>second_hand</th>\n",
       "      <th>second_ht</th>\n",
       "      <th>second_ioc</th>\n",
       "      <th>second_age</th>\n",
       "      <th>first_id</th>\n",
       "      <th>first_hand</th>\n",
       "      <th>...</th>\n",
       "      <th>first_2ndWon</th>\n",
       "      <th>first_bpSaved</th>\n",
       "      <th>first_bpFaced</th>\n",
       "      <th>second_rank</th>\n",
       "      <th>second_rank_points</th>\n",
       "      <th>first_rank</th>\n",
       "      <th>first_rank_points</th>\n",
       "      <th>tourney_year</th>\n",
       "      <th>tourney_month</th>\n",
       "      <th>label</th>\n",
       "    </tr>\n",
       "  </thead>\n",
       "  <tbody>\n",
       "    <tr>\n",
       "      <th>0</th>\n",
       "      <td>0.0</td>\n",
       "      <td>32.0</td>\n",
       "      <td>66713.0</td>\n",
       "      <td>104620.0</td>\n",
       "      <td>1.0</td>\n",
       "      <td>183.000000</td>\n",
       "      <td>40.0</td>\n",
       "      <td>32.4</td>\n",
       "      <td>105413.0</td>\n",
       "      <td>1.0</td>\n",
       "      <td>...</td>\n",
       "      <td>8.0</td>\n",
       "      <td>3.0</td>\n",
       "      <td>8.0</td>\n",
       "      <td>165.0</td>\n",
       "      <td>332.0</td>\n",
       "      <td>121.0</td>\n",
       "      <td>467.0</td>\n",
       "      <td>2018.0</td>\n",
       "      <td>3.0</td>\n",
       "      <td>0.0</td>\n",
       "    </tr>\n",
       "    <tr>\n",
       "      <th>1</th>\n",
       "      <td>1.0</td>\n",
       "      <td>32.0</td>\n",
       "      <td>54785.0</td>\n",
       "      <td>200221.0</td>\n",
       "      <td>1.0</td>\n",
       "      <td>183.000000</td>\n",
       "      <td>27.0</td>\n",
       "      <td>18.4</td>\n",
       "      <td>104312.0</td>\n",
       "      <td>1.0</td>\n",
       "      <td>...</td>\n",
       "      <td>10.0</td>\n",
       "      <td>4.0</td>\n",
       "      <td>4.0</td>\n",
       "      <td>471.0</td>\n",
       "      <td>76.0</td>\n",
       "      <td>89.0</td>\n",
       "      <td>611.0</td>\n",
       "      <td>2017.0</td>\n",
       "      <td>11.0</td>\n",
       "      <td>1.0</td>\n",
       "    </tr>\n",
       "    <tr>\n",
       "      <th>2</th>\n",
       "      <td>1.0</td>\n",
       "      <td>32.0</td>\n",
       "      <td>76964.0</td>\n",
       "      <td>124116.0</td>\n",
       "      <td>1.0</td>\n",
       "      <td>191.000000</td>\n",
       "      <td>3.0</td>\n",
       "      <td>23.4</td>\n",
       "      <td>105806.0</td>\n",
       "      <td>1.0</td>\n",
       "      <td>...</td>\n",
       "      <td>22.0</td>\n",
       "      <td>1.0</td>\n",
       "      <td>3.0</td>\n",
       "      <td>165.0</td>\n",
       "      <td>303.0</td>\n",
       "      <td>250.0</td>\n",
       "      <td>182.0</td>\n",
       "      <td>2019.0</td>\n",
       "      <td>10.0</td>\n",
       "      <td>0.0</td>\n",
       "    </tr>\n",
       "    <tr>\n",
       "      <th>3</th>\n",
       "      <td>0.0</td>\n",
       "      <td>32.0</td>\n",
       "      <td>60455.0</td>\n",
       "      <td>128034.0</td>\n",
       "      <td>1.0</td>\n",
       "      <td>196.000000</td>\n",
       "      <td>59.0</td>\n",
       "      <td>21.5</td>\n",
       "      <td>106228.0</td>\n",
       "      <td>1.0</td>\n",
       "      <td>...</td>\n",
       "      <td>19.0</td>\n",
       "      <td>5.0</td>\n",
       "      <td>13.0</td>\n",
       "      <td>109.0</td>\n",
       "      <td>515.0</td>\n",
       "      <td>123.0</td>\n",
       "      <td>455.0</td>\n",
       "      <td>2018.0</td>\n",
       "      <td>9.0</td>\n",
       "      <td>0.0</td>\n",
       "    </tr>\n",
       "    <tr>\n",
       "      <th>4</th>\n",
       "      <td>0.0</td>\n",
       "      <td>32.0</td>\n",
       "      <td>84279.0</td>\n",
       "      <td>200384.0</td>\n",
       "      <td>0.0</td>\n",
       "      <td>173.000000</td>\n",
       "      <td>27.0</td>\n",
       "      <td>20.7</td>\n",
       "      <td>123896.0</td>\n",
       "      <td>2.0</td>\n",
       "      <td>...</td>\n",
       "      <td>22.0</td>\n",
       "      <td>7.0</td>\n",
       "      <td>13.0</td>\n",
       "      <td>165.0</td>\n",
       "      <td>435.0</td>\n",
       "      <td>356.0</td>\n",
       "      <td>126.0</td>\n",
       "      <td>2021.0</td>\n",
       "      <td>7.0</td>\n",
       "      <td>0.0</td>\n",
       "    </tr>\n",
       "    <tr>\n",
       "      <th>...</th>\n",
       "      <td>...</td>\n",
       "      <td>...</td>\n",
       "      <td>...</td>\n",
       "      <td>...</td>\n",
       "      <td>...</td>\n",
       "      <td>...</td>\n",
       "      <td>...</td>\n",
       "      <td>...</td>\n",
       "      <td>...</td>\n",
       "      <td>...</td>\n",
       "      <td>...</td>\n",
       "      <td>...</td>\n",
       "      <td>...</td>\n",
       "      <td>...</td>\n",
       "      <td>...</td>\n",
       "      <td>...</td>\n",
       "      <td>...</td>\n",
       "      <td>...</td>\n",
       "      <td>...</td>\n",
       "      <td>...</td>\n",
       "      <td>...</td>\n",
       "    </tr>\n",
       "    <tr>\n",
       "      <th>92773</th>\n",
       "      <td>1.0</td>\n",
       "      <td>32.0</td>\n",
       "      <td>42520.0</td>\n",
       "      <td>105958.0</td>\n",
       "      <td>1.0</td>\n",
       "      <td>185.431323</td>\n",
       "      <td>63.0</td>\n",
       "      <td>24.1</td>\n",
       "      <td>104783.0</td>\n",
       "      <td>1.0</td>\n",
       "      <td>...</td>\n",
       "      <td>13.0</td>\n",
       "      <td>4.0</td>\n",
       "      <td>7.0</td>\n",
       "      <td>1102.0</td>\n",
       "      <td>9.0</td>\n",
       "      <td>715.0</td>\n",
       "      <td>35.0</td>\n",
       "      <td>2016.0</td>\n",
       "      <td>5.0</td>\n",
       "      <td>0.0</td>\n",
       "    </tr>\n",
       "    <tr>\n",
       "      <th>92774</th>\n",
       "      <td>0.0</td>\n",
       "      <td>32.0</td>\n",
       "      <td>67165.0</td>\n",
       "      <td>106072.0</td>\n",
       "      <td>1.0</td>\n",
       "      <td>178.000000</td>\n",
       "      <td>72.0</td>\n",
       "      <td>25.7</td>\n",
       "      <td>106210.0</td>\n",
       "      <td>0.0</td>\n",
       "      <td>...</td>\n",
       "      <td>22.0</td>\n",
       "      <td>7.0</td>\n",
       "      <td>9.0</td>\n",
       "      <td>193.0</td>\n",
       "      <td>293.0</td>\n",
       "      <td>92.0</td>\n",
       "      <td>640.0</td>\n",
       "      <td>2018.0</td>\n",
       "      <td>8.0</td>\n",
       "      <td>1.0</td>\n",
       "    </tr>\n",
       "    <tr>\n",
       "      <th>92775</th>\n",
       "      <td>1.0</td>\n",
       "      <td>32.0</td>\n",
       "      <td>77646.0</td>\n",
       "      <td>105633.0</td>\n",
       "      <td>1.0</td>\n",
       "      <td>183.000000</td>\n",
       "      <td>25.0</td>\n",
       "      <td>30.1</td>\n",
       "      <td>105216.0</td>\n",
       "      <td>1.0</td>\n",
       "      <td>...</td>\n",
       "      <td>11.0</td>\n",
       "      <td>2.0</td>\n",
       "      <td>3.0</td>\n",
       "      <td>151.0</td>\n",
       "      <td>410.0</td>\n",
       "      <td>101.0</td>\n",
       "      <td>689.0</td>\n",
       "      <td>2020.0</td>\n",
       "      <td>10.0</td>\n",
       "      <td>1.0</td>\n",
       "    </tr>\n",
       "    <tr>\n",
       "      <th>92776</th>\n",
       "      <td>1.0</td>\n",
       "      <td>64.0</td>\n",
       "      <td>77834.0</td>\n",
       "      <td>105911.0</td>\n",
       "      <td>0.0</td>\n",
       "      <td>185.000000</td>\n",
       "      <td>2.0</td>\n",
       "      <td>27.9</td>\n",
       "      <td>104970.0</td>\n",
       "      <td>1.0</td>\n",
       "      <td>...</td>\n",
       "      <td>13.0</td>\n",
       "      <td>1.0</td>\n",
       "      <td>3.0</td>\n",
       "      <td>190.0</td>\n",
       "      <td>260.0</td>\n",
       "      <td>219.0</td>\n",
       "      <td>217.0</td>\n",
       "      <td>2020.0</td>\n",
       "      <td>1.0</td>\n",
       "      <td>1.0</td>\n",
       "    </tr>\n",
       "    <tr>\n",
       "      <th>92777</th>\n",
       "      <td>0.0</td>\n",
       "      <td>32.0</td>\n",
       "      <td>87353.0</td>\n",
       "      <td>205734.0</td>\n",
       "      <td>1.0</td>\n",
       "      <td>185.000000</td>\n",
       "      <td>10.0</td>\n",
       "      <td>21.7</td>\n",
       "      <td>200374.0</td>\n",
       "      <td>2.0</td>\n",
       "      <td>...</td>\n",
       "      <td>18.0</td>\n",
       "      <td>4.0</td>\n",
       "      <td>6.0</td>\n",
       "      <td>132.0</td>\n",
       "      <td>525.0</td>\n",
       "      <td>361.0</td>\n",
       "      <td>119.0</td>\n",
       "      <td>2021.0</td>\n",
       "      <td>11.0</td>\n",
       "      <td>0.0</td>\n",
       "    </tr>\n",
       "  </tbody>\n",
       "</table>\n",
       "<p>92778 rows × 39 columns</p>\n",
       "</div>"
      ],
      "text/plain": [
       "       surface  draw_size  match_num  second_id  second_hand   second_ht  \\\n",
       "0          0.0       32.0    66713.0   104620.0          1.0  183.000000   \n",
       "1          1.0       32.0    54785.0   200221.0          1.0  183.000000   \n",
       "2          1.0       32.0    76964.0   124116.0          1.0  191.000000   \n",
       "3          0.0       32.0    60455.0   128034.0          1.0  196.000000   \n",
       "4          0.0       32.0    84279.0   200384.0          0.0  173.000000   \n",
       "...        ...        ...        ...        ...          ...         ...   \n",
       "92773      1.0       32.0    42520.0   105958.0          1.0  185.431323   \n",
       "92774      0.0       32.0    67165.0   106072.0          1.0  178.000000   \n",
       "92775      1.0       32.0    77646.0   105633.0          1.0  183.000000   \n",
       "92776      1.0       64.0    77834.0   105911.0          0.0  185.000000   \n",
       "92777      0.0       32.0    87353.0   205734.0          1.0  185.000000   \n",
       "\n",
       "       second_ioc  second_age  first_id  first_hand  ...  first_2ndWon  \\\n",
       "0            40.0        32.4  105413.0         1.0  ...           8.0   \n",
       "1            27.0        18.4  104312.0         1.0  ...          10.0   \n",
       "2             3.0        23.4  105806.0         1.0  ...          22.0   \n",
       "3            59.0        21.5  106228.0         1.0  ...          19.0   \n",
       "4            27.0        20.7  123896.0         2.0  ...          22.0   \n",
       "...           ...         ...       ...         ...  ...           ...   \n",
       "92773        63.0        24.1  104783.0         1.0  ...          13.0   \n",
       "92774        72.0        25.7  106210.0         0.0  ...          22.0   \n",
       "92775        25.0        30.1  105216.0         1.0  ...          11.0   \n",
       "92776         2.0        27.9  104970.0         1.0  ...          13.0   \n",
       "92777        10.0        21.7  200374.0         2.0  ...          18.0   \n",
       "\n",
       "       first_bpSaved  first_bpFaced  second_rank  second_rank_points  \\\n",
       "0                3.0            8.0        165.0               332.0   \n",
       "1                4.0            4.0        471.0                76.0   \n",
       "2                1.0            3.0        165.0               303.0   \n",
       "3                5.0           13.0        109.0               515.0   \n",
       "4                7.0           13.0        165.0               435.0   \n",
       "...              ...            ...          ...                 ...   \n",
       "92773            4.0            7.0       1102.0                 9.0   \n",
       "92774            7.0            9.0        193.0               293.0   \n",
       "92775            2.0            3.0        151.0               410.0   \n",
       "92776            1.0            3.0        190.0               260.0   \n",
       "92777            4.0            6.0        132.0               525.0   \n",
       "\n",
       "       first_rank  first_rank_points  tourney_year  tourney_month  label  \n",
       "0           121.0              467.0        2018.0            3.0    0.0  \n",
       "1            89.0              611.0        2017.0           11.0    1.0  \n",
       "2           250.0              182.0        2019.0           10.0    0.0  \n",
       "3           123.0              455.0        2018.0            9.0    0.0  \n",
       "4           356.0              126.0        2021.0            7.0    0.0  \n",
       "...           ...                ...           ...            ...    ...  \n",
       "92773       715.0               35.0        2016.0            5.0    0.0  \n",
       "92774        92.0              640.0        2018.0            8.0    1.0  \n",
       "92775       101.0              689.0        2020.0           10.0    1.0  \n",
       "92776       219.0              217.0        2020.0            1.0    1.0  \n",
       "92777       361.0              119.0        2021.0           11.0    0.0  \n",
       "\n",
       "[92778 rows x 39 columns]"
      ]
     },
     "execution_count": 23,
     "metadata": {},
     "output_type": "execute_result"
    }
   ],
   "source": [
    "winner_player2 = np.zeros(train3_df.shape[0]) # second player wins so label=0\n",
    "train3_df['label'] = winner_player2\n",
    "\n",
    "\n",
    "winner_player1 = np.ones(copy_2_df.shape[0]) # first player wins so label=1\n",
    "copy_2_df['label'] = winner_player1 \n",
    "\n",
    "train3_df = pd.concat([train3_df,copy_2_df])\n",
    "\n",
    "train4_df = train3_df.sample(frac=1).reset_index(drop=True)\n",
    "train4_df"
   ]
  },
  {
   "cell_type": "code",
   "execution_count": 24,
   "id": "9e23013e-8a39-4c33-aeb1-f20750848d81",
   "metadata": {},
   "outputs": [],
   "source": [
    "train4_df = train4_df.drop(columns=['first_id', 'second_id'])"
   ]
  },
  {
   "cell_type": "code",
   "execution_count": 25,
   "id": "333b0b5f-0302-4f07-b06e-2c10d0e77528",
   "metadata": {},
   "outputs": [],
   "source": [
    "train4_df = train4_df.drop_duplicates(subset=['match_num'])"
   ]
  },
  {
   "cell_type": "code",
   "execution_count": 26,
   "id": "6cdcea24-956e-4566-a151-367ca11f55ce",
   "metadata": {
    "tags": []
   },
   "outputs": [
    {
     "data": {
      "image/png": "[encoded data removed]",
      "text/plain": [
       "<Figure size 1728x1440 with 16 Axes>"
      ]
     },
     "metadata": {
      "needs_background": "light"
     },
     "output_type": "display_data"
    }
   ],
   "source": [
    "dimensions = ['first_rank','second_rank','first_age','second_age','first_ht',\n",
    "'second_ht','first_svpt','second_svpt','first_1stIn','second_1stIn','first_df','second_df', 'first_hand', 'second_hand',\n",
    "'first_bpFaced', 'second_bpFaced']\n",
    "plt.figure(1, figsize=(24,20))\n",
    "for i in range(1,17):\n",
    "    plt.subplot(4,4,i)\n",
    "    train4_df[dimensions[i-1]].plot(kind='hist', title=dimensions[i-1])\n",
    "\n",
    "plt.savefig('bar_plot.pdf')  "
   ]
  },
  {
   "cell_type": "code",
   "execution_count": 27,
   "id": "095d2133-21f4-49fa-aca6-8e97b7583370",
   "metadata": {
    "tags": []
   },
   "outputs": [
    {
     "name": "stdout",
     "output_type": "stream",
     "text": [
      "<class 'pandas.core.frame.DataFrame'>\n",
      "Int64Index: 46389 entries, 0 to 92014\n",
      "Data columns (total 37 columns):\n",
      " #   Column              Non-Null Count  Dtype  \n",
      "---  ------              --------------  -----  \n",
      " 0   surface             46389 non-null  float64\n",
      " 1   draw_size           46389 non-null  float64\n",
      " 2   match_num           46389 non-null  float64\n",
      " 3   second_hand         46389 non-null  float64\n",
      " 4   second_ht           46389 non-null  float64\n",
      " 5   second_ioc          46389 non-null  float64\n",
      " 6   second_age          46389 non-null  float64\n",
      " 7   first_hand          46389 non-null  float64\n",
      " 8   first_ht            46389 non-null  float64\n",
      " 9   first_ioc           46389 non-null  float64\n",
      " 10  first_age           46389 non-null  float64\n",
      " 11  best_of             46389 non-null  float64\n",
      " 12  round               46389 non-null  float64\n",
      " 13  minutes             46389 non-null  float64\n",
      " 14  second_ace          46389 non-null  float64\n",
      " 15  second_df           46389 non-null  float64\n",
      " 16  second_svpt         46389 non-null  float64\n",
      " 17  second_1stIn        46389 non-null  float64\n",
      " 18  second_1stWon       46389 non-null  float64\n",
      " 19  second_2ndWon       46389 non-null  float64\n",
      " 20  second_bpSaved      46389 non-null  float64\n",
      " 21  second_bpFaced      46389 non-null  float64\n",
      " 22  first_ace           46389 non-null  float64\n",
      " 23  first_df            46389 non-null  float64\n",
      " 24  first_svpt          46389 non-null  float64\n",
      " 25  first_1stIn         46389 non-null  float64\n",
      " 26  first_1stWon        46389 non-null  float64\n",
      " 27  first_2ndWon        46389 non-null  float64\n",
      " 28  first_bpSaved       46389 non-null  float64\n",
      " 29  first_bpFaced       46389 non-null  float64\n",
      " 30  second_rank         46389 non-null  float64\n",
      " 31  second_rank_points  46389 non-null  float64\n",
      " 32  first_rank          46389 non-null  float64\n",
      " 33  first_rank_points   46389 non-null  float64\n",
      " 34  tourney_year        46389 non-null  float64\n",
      " 35  tourney_month       46389 non-null  float64\n",
      " 36  label               46389 non-null  float64\n",
      "dtypes: float64(37)\n",
      "memory usage: 13.4 MB\n"
     ]
    }
   ],
   "source": [
    "train4_df_imputed = pd.DataFrame(SimpleImputer().fit_transform(train4_df))\n",
    "train4_df_imputed.columns = train4_df.columns\n",
    "train4_df_imputed.index = train4_df.index\n",
    "train4_df = train4_df_imputed.copy()\n",
    "\n",
    "train4_df.info()"
   ]
  },
  {
   "cell_type": "code",
   "execution_count": 28,
   "id": "d0f8290c-e878-416f-8c30-8189acb51b2e",
   "metadata": {
    "tags": []
   },
   "outputs": [],
   "source": [
    "train4_df = train4_df.drop(columns=['first_1stWon', 'second_1stWon', 'first_2ndWon',\n",
    "                                    'second_2ndWon', 'first_bpSaved', 'second_bpSaved',\n",
    "                                    'tourney_year', 'tourney_month', 'match_num'])"
   ]
  },
  {
   "cell_type": "code",
   "execution_count": 29,
   "id": "b1c8c1c3-3c8a-4d8c-a67f-c7c77401107a",
   "metadata": {},
   "outputs": [
    {
     "name": "stdout",
     "output_type": "stream",
     "text": [
      "                          mean         std    min     max\n",
      "surface               0.605812    0.551048    0.0     4.0\n",
      "draw_size            42.432128   21.847322   28.0   128.0\n",
      "second_hand           1.005950    0.491331    0.0     3.0\n",
      "second_ht           185.365121    5.611832  145.0   211.0\n",
      "second_ioc           38.189506   25.996733    0.0    91.0\n",
      "second_age           25.635528    4.265822    0.0    43.6\n",
      "first_hand            1.006553    0.491148    0.0     3.0\n",
      "first_ht            185.369639    5.631383  145.0   211.0\n",
      "first_ioc            37.834142   25.888873    0.0    91.0\n",
      "first_age            25.643092    4.247007    0.0    42.5\n",
      "best_of               3.000690    0.037137    3.0     5.0\n",
      "round                 4.137037    2.237783    0.0     8.0\n",
      "minutes              95.340447   39.128191    0.0  4756.0\n",
      "second_ace            4.393026    3.874999    0.0    52.0\n",
      "second_df             2.995957    2.324765    0.0    25.0\n",
      "second_svpt          71.232719   21.948525    0.0   202.0\n",
      "second_1stIn         43.435361   14.665354    0.0   118.0\n",
      "second_bpFaced        6.665057    4.003283    0.0    26.0\n",
      "first_ace             4.375189    3.876032    0.0    39.0\n",
      "first_df              2.990823    2.316212    0.0    22.0\n",
      "first_svpt           71.161660   21.898412    0.0   225.0\n",
      "first_1stIn          43.429586   14.655629    0.0   132.0\n",
      "first_bpFaced         6.632828    4.031217    0.0    28.0\n",
      "second_rank         334.933174  279.845303   15.0  2247.0\n",
      "second_rank_points  246.885770  199.951067    1.0  2195.0\n",
      "first_rank          336.698786  283.868594   15.0  2257.0\n",
      "first_rank_points   245.172218  197.317427    1.0  2195.0\n",
      "label                 0.500226    0.500005    0.0     1.0\n"
     ]
    }
   ],
   "source": [
    "df_stats = pd.DataFrame({'mean': train4_df.mean(),\n",
    "                         'std': train4_df.std(),\n",
    "                         'min': train4_df.min(),\n",
    "                         'max': train4_df.max()})\n",
    "\n",
    "\n",
    "print(df_stats)"
   ]
  },
  {
   "cell_type": "code",
   "execution_count": 30,
   "id": "08724651-aeea-4f50-ab64-c1a26160cdba",
   "metadata": {},
   "outputs": [],
   "source": [
    "subset_df = train4_df.sample(frac=0.05)"
   ]
  },
  {
   "cell_type": "code",
   "execution_count": 31,
   "id": "e412b411-9320-4a47-81bb-c29d11beab94",
   "metadata": {
    "tags": []
   },
   "outputs": [],
   "source": [
    "y = train4_df['label']\n",
    "df_X = train4_df.drop(columns='label')"
   ]
  },
  {
   "cell_type": "code",
   "execution_count": 32,
   "id": "629158d8-7e9f-48bd-a045-29ff6f66feca",
   "metadata": {},
   "outputs": [],
   "source": [
    "X_train, X_test, y_train, y_test = train_test_split(df_X, y, test_size=0.2, random_state=42)"
   ]
  },
  {
   "cell_type": "code",
   "execution_count": 33,
   "id": "1aa449e4-5709-4968-a50d-1756e3a46470",
   "metadata": {
    "tags": []
   },
   "outputs": [
    {
     "data": {
      "text/plain": [
       "array([[0.        , 0.36      , 0.33333333, ..., 0.12898815, 0.12488849,\n",
       "        0.05834093],\n",
       "       [0.25      , 0.04      , 0.33333333, ..., 0.06700091, 0.04237288,\n",
       "        0.24749316],\n",
       "       [0.25      , 0.04      , 0.33333333, ..., 0.26298997, 0.06155219,\n",
       "        0.15223336],\n",
       "       ...,\n",
       "       [0.25      , 0.04      , 0.        , ..., 0.16499544, 0.0544157 ,\n",
       "        0.19598906],\n",
       "       [0.25      , 0.04      , 0.33333333, ..., 0.05834093, 0.04727921,\n",
       "        0.20692799],\n",
       "       [0.        , 0.04      , 0.33333333, ..., 0.00045579, 0.05932203,\n",
       "        0.17183227]])"
      ]
     },
     "execution_count": 33,
     "metadata": {},
     "output_type": "execute_result"
    }
   ],
   "source": [
    "scaler = MinMaxScaler()\n",
    "\n",
    "scaler.fit_transform(X_train)\n",
    "\n",
    "scaler.transform(X_test)"
   ]
  },
  {
   "cell_type": "code",
   "execution_count": 34,
   "id": "6858096a-d8d5-4506-b5bb-2ceba1d8550a",
   "metadata": {},
   "outputs": [],
   "source": [
    "pipe = Pipeline([\n",
    "    (\"scaler\", StandardScaler()),\n",
    "    (\"svm\", SVC())\n",
    "])\n",
    "\n",
    "param_grid_SVM = {\n",
    "    \"svm__C\": [0.1, 1, 10],\n",
    "    \"svm__gamma\": [0.1, 1, 10],\n",
    "    \"svm__kernel\": [\"linear\", \"rbf\"],\n",
    "}"
   ]
  },
  {
   "cell_type": "code",
   "execution_count": 35,
   "id": "8c4f587c-de4a-4ab8-bb51-0fe784845744",
   "metadata": {
    "tags": []
   },
   "outputs": [
    {
     "name": "stdout",
     "output_type": "stream",
     "text": [
      "Best hyperparameters: {'svm__C': 1, 'svm__gamma': 0.1, 'svm__kernel': 'linear'}\n"
     ]
    }
   ],
   "source": [
    "grid_search_SVM = GridSearchCV(pipe, param_grid_SVM, cv=5, return_train_score=True)\n",
    "grid_search_SVM.fit(X_train, y_train)\n",
    "\n",
    "print(\"Best hyperparameters:\", grid_search_SVM.best_params_)"
   ]
  },
  {
   "cell_type": "code",
   "execution_count": 36,
   "id": "fd9c6645-8bd1-440d-b8cd-7f1fa008dbd1",
   "metadata": {},
   "outputs": [],
   "source": [
    "def plot_grid_search_validation_curve(grid, param_to_vary,\n",
    "                                      title='Validation Curve', ylim=None,\n",
    "                                      xlim=None, log=None):\n",
    "\n",
    "    df_cv_results = pd.DataFrame(grid.cv_results_)\n",
    "    train_scores_mean = df_cv_results['mean_train_score']\n",
    "    valid_scores_mean = df_cv_results['mean_test_score']\n",
    "\n",
    "    param_cols = [c for c in df_cv_results.columns if c[:6] == 'param_']\n",
    "    param_ranges = [grid.param_grid[p[6:]] for p in param_cols]\n",
    "    param_ranges_lengths = [len(pr) for pr in param_ranges]\n",
    "\n",
    "    train_scores_mean = np.array(train_scores_mean).reshape(*param_ranges_lengths)\n",
    "    valid_scores_mean = np.array(valid_scores_mean).reshape(*param_ranges_lengths)\n",
    "\n",
    "    param_to_vary_idx = param_cols.index('param_{}'.format(param_to_vary))\n",
    "\n",
    "    slices = []\n",
    "    for idx, param in enumerate(grid.best_params_):\n",
    "        if (idx == param_to_vary_idx):\n",
    "            slices.append(slice(None))\n",
    "            continue\n",
    "        best_param_val = grid.best_params_[param]\n",
    "        idx_of_best_param = 0\n",
    "        if isinstance(param_ranges[idx], np.ndarray):\n",
    "            idx_of_best_param = param_ranges[idx].tolist().index(best_param_val)\n",
    "        else:\n",
    "            idx_of_best_param = param_ranges[idx].index(best_param_val)\n",
    "        slices.append(idx_of_best_param)\n",
    "\n",
    "    train_scores_mean = train_scores_mean[tuple(slices)]\n",
    "    valid_scores_mean = valid_scores_mean[tuple(slices)]\n",
    "\n",
    "    plt.clf()\n",
    "\n",
    "    plt.title(title)\n",
    "    plt.xlabel(param_to_vary)\n",
    "    plt.ylabel('Score')\n",
    "\n",
    "    if (ylim is None):\n",
    "        plt.ylim(0.0, 1.1)\n",
    "    else:\n",
    "        plt.ylim(*ylim)\n",
    "\n",
    "    if (not (xlim is None)):\n",
    "        plt.xlim(*xlim)\n",
    "\n",
    "    lw = 2\n",
    "\n",
    "    plot_fn = plt.plot\n",
    "    if log:\n",
    "        plot_fn = plt.semilogx\n",
    "\n",
    "    param_range = param_ranges[param_to_vary_idx]\n",
    "    if (not isinstance(param_range[0], numbers.Number)):\n",
    "        param_range = [str(x) for x in param_range]\n",
    "    plot_fn(param_range, train_scores_mean, label='Training score', color='r',\n",
    "            lw=lw)\n",
    "    plot_fn(param_range, valid_scores_mean, label='Cross-validation score',\n",
    "            color='b', lw=lw)\n",
    "\n",
    "    plt.legend(loc='lower right')\n",
    "\n",
    "    plt.show()"
   ]
  },
  {
   "cell_type": "code",
   "execution_count": 37,
   "id": "636aa7bc-9d2b-4978-9cc3-9042e183461d",
   "metadata": {},
   "outputs": [
    {
     "data": {
      "image/png": "[encoded data removed]",
      "text/plain": [
       "<Figure size 432x288 with 1 Axes>"
      ]
     },
     "metadata": {
      "needs_background": "light"
     },
     "output_type": "display_data"
    }
   ],
   "source": [
    "plot_grid_search_validation_curve(grid_search_SVM, \"svm__gamma\", log=True, ylim=(.8, .85))"
   ]
  },
  {
   "cell_type": "code",
   "execution_count": 38,
   "id": "3b97e61c-0194-4d4f-b990-ca34b1be73ab",
   "metadata": {},
   "outputs": [
    {
     "data": {
      "image/png": "[encoded data removed]",
      "text/plain": [
       "<Figure size 432x288 with 1 Axes>"
      ]
     },
     "metadata": {
      "needs_background": "light"
     },
     "output_type": "display_data"
    }
   ],
   "source": [
    "plot_grid_search_validation_curve(grid_search_SVM, \"svm__C\", log=True, ylim=(.8, .85))"
   ]
  },
  {
   "cell_type": "code",
   "execution_count": 39,
   "id": "0b37249b-30b1-4f9b-9441-d77dc7838c53",
   "metadata": {},
   "outputs": [],
   "source": [
    "best_svm = grid_search_SVM.best_estimator_"
   ]
  },
  {
   "cell_type": "code",
   "execution_count": 40,
   "id": "8a2317a9-2e43-4d2a-a3cb-a1d661e60e47",
   "metadata": {},
   "outputs": [
    {
     "name": "stdout",
     "output_type": "stream",
     "text": [
      "accuracy_SVM: 84.67%\n",
      "Precision: 84.68\n",
      "Recall: 84.64\n"
     ]
    }
   ],
   "source": [
    "accuracy_SVM = best_svm.score(X_test, y_test)\n",
    "print(\"accuracy_SVM: {:.2f}%\".format(accuracy_SVM * 100))\n",
    "\n",
    "y_pred_SVM = best_svm.predict(X_test)\n",
    "precision = precision_score(y_test, y_pred_SVM)\n",
    "recall = recall_score(y_test, y_pred_SVM)\n",
    "print(\"Precision: {:.2f}\".format(precision * 100))\n",
    "print(\"Recall: {:.2f}\".format(recall * 100))"
   ]
  },
  {
   "cell_type": "code",
   "execution_count": 41,
   "id": "515c7ddd-5b37-4194-8a19-40d6178619f1",
   "metadata": {},
   "outputs": [
    {
     "name": "stdout",
     "output_type": "stream",
     "text": [
      "[[3933  710]\n",
      " [ 712 3923]]\n"
     ]
    }
   ],
   "source": [
    "print(confusion_matrix(y_test,y_pred_SVM))"
   ]
  },
  {
   "cell_type": "code",
   "execution_count": 42,
   "id": "90e3d979-1d26-4ea6-8dd6-dabbb75a7241",
   "metadata": {},
   "outputs": [
    {
     "name": "stdout",
     "output_type": "stream",
     "text": [
      "first_bpFaced: 0.192 +/- 0.004\n",
      "second_bpFaced: 0.187 +/- 0.004\n",
      "second_svpt: 0.103 +/- 0.002\n",
      "first_svpt: 0.097 +/- 0.003\n",
      "first_ace: 0.013 +/- 0.002\n",
      "second_ace: 0.012 +/- 0.002\n",
      "first_1stIn: 0.011 +/- 0.002\n",
      "second_1stIn: 0.009 +/- 0.001\n",
      "second_df: 0.008 +/- 0.001\n",
      "first_df: 0.006 +/- 0.001\n",
      "second_rank: 0.005 +/- 0.001\n",
      "first_ioc: 0.004 +/- 0.001\n",
      "first_rank: 0.004 +/- 0.001\n",
      "first_rank_points: 0.004 +/- 0.001\n",
      "second_ioc: 0.002 +/- 0.001\n",
      "second_rank_points: 0.002 +/- 0.001\n",
      "first_age: 0.002 +/- 0.001\n",
      "first_ht: 0.002 +/- 0.001\n",
      "second_ht: 0.001 +/- 0.001\n",
      "first_hand: 0.001 +/- 0.001\n",
      "second_hand: 0.001 +/- 0.001\n",
      "second_age: 0.000 +/- 0.000\n",
      "draw_size: 0.000 +/- 0.000\n",
      "surface: 0.000 +/- 0.000\n",
      "round: 0.000 +/- 0.000\n",
      "best_of: 0.000 +/- 0.000\n",
      "minutes: -0.000 +/- 0.000\n"
     ]
    }
   ],
   "source": [
    "result = permutation_importance(best_svm, X_test, y_test, n_repeats=10, random_state=0)\n",
    "\n",
    "sorted_idx = result.importances_mean.argsort()[::-1]\n",
    "\n",
    "for idx in sorted_idx:\n",
    "    print(f\"{X_train.columns[idx]}: {result.importances_mean[idx]:.3f} +/- {result.importances_std[idx]:.3f}\")"
   ]
  },
  {
   "cell_type": "code",
   "execution_count": 43,
   "id": "38e6289f-7e76-4133-a1f2-41b7c535efc1",
   "metadata": {},
   "outputs": [],
   "source": [
    "pipe = Pipeline([\n",
    "      (\"rf\", RandomForestClassifier(random_state=42))\n",
    "])\n",
    "\n",
    "param_grid_RF = {\n",
    "    \"rf__n_estimators\": [50, 100, 200],\n",
    "    \"rf__max_depth\": [None, 5, 10, 20],\n",
    "    \"rf__min_samples_split\": [2, 5, 10],\n",
    "    \"rf__min_samples_leaf\": [2, 5, 10]\n",
    "}"
   ]
  },
  {
   "cell_type": "code",
   "execution_count": 44,
   "id": "ff0e01c8-eb08-4698-b10d-d46986e10d6f",
   "metadata": {},
   "outputs": [
    {
     "name": "stdout",
     "output_type": "stream",
     "text": [
      "Best hyperparameters: {'rf__max_depth': 20, 'rf__min_samples_leaf': 2, 'rf__min_samples_split': 2, 'rf__n_estimators': 200}\n"
     ]
    }
   ],
   "source": [
    "grid_search_RF = GridSearchCV(pipe, param_grid=param_grid_RF, cv=5, return_train_score=True)\n",
    "grid_search_RF.fit(X_train, y_train)\n",
    "\n",
    "print(\"Best hyperparameters:\", grid_search_RF.best_params_)"
   ]
  },
  {
   "cell_type": "code",
   "execution_count": 45,
   "id": "050b16c3-c74d-45b3-883f-1452e6870b87",
   "metadata": {
    "tags": []
   },
   "outputs": [
    {
     "data": {
      "image/png": "[encoded data removed]",
      "text/plain": [
       "<Figure size 432x288 with 1 Axes>"
      ]
     },
     "metadata": {
      "needs_background": "light"
     },
     "output_type": "display_data"
    }
   ],
   "source": [
    "plot_grid_search_validation_curve(grid_search_RF, \"rf__n_estimators\", log=True, ylim=(.8, 1.1))"
   ]
  },
  {
   "cell_type": "code",
   "execution_count": 46,
   "id": "0cf1db56-06da-4a01-aadd-a80e849b4a4e",
   "metadata": {
    "tags": []
   },
   "outputs": [
    {
     "data": {
      "image/png": "[encoded data removed]",
      "text/plain": [
       "<Figure size 432x288 with 1 Axes>"
      ]
     },
     "metadata": {
      "needs_background": "light"
     },
     "output_type": "display_data"
    }
   ],
   "source": [
    "plot_grid_search_validation_curve(grid_search_RF, \"rf__max_depth\", log=True, ylim=(.8, 1.1))"
   ]
  },
  {
   "cell_type": "code",
   "execution_count": 47,
   "id": "84b868a2-797f-46e2-85c0-735d8402380f",
   "metadata": {},
   "outputs": [
    {
     "data": {
      "image/png": "[encoded data removed]",
      "text/plain": [
       "<Figure size 432x288 with 1 Axes>"
      ]
     },
     "metadata": {
      "needs_background": "light"
     },
     "output_type": "display_data"
    }
   ],
   "source": [
    "plot_grid_search_validation_curve(grid_search_RF, \"rf__min_samples_split\", log=True, ylim=(.8, 1.1))"
   ]
  },
  {
   "cell_type": "code",
   "execution_count": 48,
   "id": "9bc2fd16-619d-4b74-9c61-f893989d6526",
   "metadata": {},
   "outputs": [
    {
     "data": {
      "image/png": "[encoded data removed]",
      "text/plain": [
       "<Figure size 432x288 with 1 Axes>"
      ]
     },
     "metadata": {
      "needs_background": "light"
     },
     "output_type": "display_data"
    }
   ],
   "source": [
    "plot_grid_search_validation_curve(grid_search_RF, \"rf__min_samples_leaf\", log=True, ylim=(.8, 1.1))"
   ]
  },
  {
   "cell_type": "code",
   "execution_count": 49,
   "id": "45200123-0cda-4c44-8245-3c3ef1b623da",
   "metadata": {},
   "outputs": [],
   "source": [
    "best_RF = grid_search_RF.best_estimator_"
   ]
  },
  {
   "cell_type": "code",
   "execution_count": 50,
   "id": "b084f1d1-6dd5-431b-9d7e-278b7dc344ae",
   "metadata": {},
   "outputs": [
    {
     "name": "stdout",
     "output_type": "stream",
     "text": [
      "Accuracy_RF: 91.16%\n",
      "Precision: 91.42\n",
      "Recall: 90.83\n"
     ]
    }
   ],
   "source": [
    "accuracy_RF = best_RF.score(X_test, y_test)\n",
    "print(\"Accuracy_RF: {:.2f}%\".format(accuracy_RF * 100))\n",
    "\n",
    "y_pred_RF = best_RF.predict(X_test)\n",
    "precision = precision_score(y_test, y_pred_RF)\n",
    "recall = recall_score(y_test, y_pred_RF)\n",
    "print(\"Precision: {:.2f}\".format(precision * 100))\n",
    "print(\"Recall: {:.2f}\".format(recall * 100))"
   ]
  },
  {
   "cell_type": "code",
   "execution_count": 51,
   "id": "cef27bca-ab83-41a6-a8fb-2b475ef07594",
   "metadata": {},
   "outputs": [
    {
     "name": "stdout",
     "output_type": "stream",
     "text": [
      "[[4248  395]\n",
      " [ 425 4210]]\n"
     ]
    }
   ],
   "source": [
    "print(confusion_matrix(y_test,y_pred_RF))"
   ]
  },
  {
   "cell_type": "code",
   "execution_count": 52,
   "id": "32dde982-84d9-48c9-ab20-65e5ebcbc439",
   "metadata": {},
   "outputs": [
    {
     "name": "stdout",
     "output_type": "stream",
     "text": [
      "second_bpFaced: 0.107 +/- 0.003\n",
      "first_bpFaced: 0.106 +/- 0.002\n",
      "second_ioc: 0.051 +/- 0.001\n",
      "first_ioc: 0.049 +/- 0.002\n",
      "first_ht: 0.026 +/- 0.001\n",
      "second_ht: 0.022 +/- 0.002\n",
      "first_1stIn: 0.006 +/- 0.001\n",
      "first_svpt: 0.005 +/- 0.001\n",
      "second_1stIn: 0.004 +/- 0.001\n",
      "second_svpt: 0.004 +/- 0.001\n",
      "first_ace: 0.003 +/- 0.001\n",
      "second_ace: 0.003 +/- 0.001\n",
      "minutes: 0.002 +/- 0.001\n",
      "first_df: 0.001 +/- 0.001\n",
      "surface: 0.000 +/- 0.000\n",
      "second_rank: 0.000 +/- 0.001\n",
      "first_hand: 0.000 +/- 0.000\n",
      "second_df: 0.000 +/- 0.001\n",
      "first_age: 0.000 +/- 0.001\n",
      "best_of: 0.000 +/- 0.000\n",
      "second_hand: -0.000 +/- 0.001\n",
      "second_age: -0.000 +/- 0.000\n",
      "draw_size: -0.000 +/- 0.000\n",
      "second_rank_points: -0.000 +/- 0.001\n",
      "first_rank: -0.000 +/- 0.001\n",
      "round: -0.001 +/- 0.000\n",
      "first_rank_points: -0.001 +/- 0.001\n"
     ]
    }
   ],
   "source": [
    "result = permutation_importance(best_RF, X_test, y_test, n_repeats=10, random_state=0)\n",
    "\n",
    "sorted_idx = result.importances_mean.argsort()[::-1]\n",
    "\n",
    "for idx in sorted_idx:\n",
    "    print(f\"{X_train.columns[idx]}: {result.importances_mean[idx]:.3f} +/- {result.importances_std[idx]:.3f}\")"
   ]
  },
  {
   "cell_type": "code",
   "execution_count": 53,
   "id": "9fda1926-9518-440d-8905-17343c510564",
   "metadata": {},
   "outputs": [],
   "source": [
    "pipe = Pipeline([\n",
    "        (\"mlp\", MLPClassifier(random_state=42))\n",
    "])\n",
    "\n",
    "param_grid_MLP = {\n",
    "    \"mlp__hidden_layer_sizes\": [(5,), (15,), (25,)],\n",
    "    \"mlp__activation\": [\"logistic\", \"tanh\", \"relu\"],\n",
    "    \"mlp__alpha\": [0.0001, 0.001, 0.01],\n",
    "    \"mlp__max_iter\": [500, 1500, 2000],\n",
    "}"
   ]
  },
  {
   "cell_type": "code",
   "execution_count": 54,
   "id": "e966415a-2e2e-49fc-af5c-41f63b52b2b7",
   "metadata": {},
   "outputs": [
    {
     "name": "stdout",
     "output_type": "stream",
     "text": [
      "Best hyperparameters: {'mlp__activation': 'logistic', 'mlp__alpha': 0.001, 'mlp__hidden_layer_sizes': (15,), 'mlp__max_iter': 500}\n"
     ]
    }
   ],
   "source": [
    "grid_search_MLP = GridSearchCV(pipe, param_grid=param_grid_MLP, cv=5, return_train_score=True )\n",
    "grid_search_MLP.fit(X_train, y_train)\n",
    "print(\"Best hyperparameters:\", grid_search_MLP.best_params_)"
   ]
  },
  {
   "cell_type": "code",
   "execution_count": 55,
   "id": "22d40695-06c0-43a0-b151-b150a32da5e0",
   "metadata": {},
   "outputs": [
    {
     "data": {
      "image/png": "[encoded data removed]",
      "text/plain": [
       "<Figure size 432x288 with 1 Axes>"
      ]
     },
     "metadata": {
      "needs_background": "light"
     },
     "output_type": "display_data"
    }
   ],
   "source": [
    "plot_grid_search_validation_curve(grid_search_MLP, \"mlp__hidden_layer_sizes\", log=True, ylim=(.8, .9))"
   ]
  },
  {
   "cell_type": "code",
   "execution_count": 56,
   "id": "420aa1bc-74e3-45f0-87bc-88dd406c4ec9",
   "metadata": {},
   "outputs": [
    {
     "data": {
      "image/png": "[encoded data removed]",
      "text/plain": [
       "<Figure size 432x288 with 1 Axes>"
      ]
     },
     "metadata": {
      "needs_background": "light"
     },
     "output_type": "display_data"
    }
   ],
   "source": [
    "plot_grid_search_validation_curve(grid_search_MLP, \"mlp__alpha\", log=True, ylim=(.8, .9))"
   ]
  },
  {
   "cell_type": "code",
   "execution_count": 57,
   "id": "60009394-f21d-49a8-8fc4-615b8980d0b6",
   "metadata": {},
   "outputs": [
    {
     "data": {
      "image/png": "[encoded data removed]",
      "text/plain": [
       "<Figure size 432x288 with 1 Axes>"
      ]
     },
     "metadata": {
      "needs_background": "light"
     },
     "output_type": "display_data"
    }
   ],
   "source": [
    "plot_grid_search_validation_curve(grid_search_MLP, \"mlp__max_iter\", log=True, ylim=(.8, .9))"
   ]
  },
  {
   "cell_type": "code",
   "execution_count": 58,
   "id": "8f0d4bc4-313b-4e96-bc37-a3009611c37d",
   "metadata": {},
   "outputs": [
    {
     "data": {
      "image/png": "[encoded data removed]",
      "text/plain": [
       "<Figure size 432x288 with 1 Axes>"
      ]
     },
     "metadata": {
      "needs_background": "light"
     },
     "output_type": "display_data"
    }
   ],
   "source": [
    "plot_grid_search_validation_curve(grid_search_MLP, \"mlp__activation\", log=True, ylim=(.8, .9))"
   ]
  },
  {
   "cell_type": "code",
   "execution_count": 59,
   "id": "e32477a3-14b3-4b45-b7d9-aee432ea222b",
   "metadata": {},
   "outputs": [],
   "source": [
    "best_MLP = grid_search_MLP.best_estimator_"
   ]
  },
  {
   "cell_type": "code",
   "execution_count": 60,
   "id": "7b23502f-ac74-43bc-b886-a8f5aa8fe4ea",
   "metadata": {},
   "outputs": [
    {
     "name": "stdout",
     "output_type": "stream",
     "text": [
      "Accuracy_MLP: 85.52%\n",
      "Precision: 84.93\n",
      "Recall: 86.34\n"
     ]
    }
   ],
   "source": [
    "accuracy_MLP = best_MLP.score(X_test, y_test)\n",
    "print(\"Accuracy_MLP: {:.2f}%\".format(accuracy_MLP * 100))\n",
    "\n",
    "y_pred_MLP = best_MLP.predict(X_test)\n",
    "precision = precision_score(y_test, y_pred_MLP)\n",
    "recall = recall_score(y_test, y_pred_MLP)\n",
    "print(\"Precision: {:.2f}\".format(precision * 100))\n",
    "print(\"Recall: {:.2f}\".format(recall * 100))"
   ]
  },
  {
   "cell_type": "code",
   "execution_count": 61,
   "id": "e0ae0187-cf6c-466c-9ce2-e424c0ff4367",
   "metadata": {},
   "outputs": [
    {
     "name": "stdout",
     "output_type": "stream",
     "text": [
      "[[3933  710]\n",
      " [ 633 4002]]\n"
     ]
    }
   ],
   "source": [
    "print(confusion_matrix(y_test,y_pred_MLP))"
   ]
  },
  {
   "cell_type": "code",
   "execution_count": 62,
   "id": "64fdf34a-2ed7-4a97-b204-f38a81cdaa07",
   "metadata": {},
   "outputs": [
    {
     "name": "stdout",
     "output_type": "stream",
     "text": [
      "first_bpFaced: 0.194 +/- 0.003\n",
      "second_bpFaced: 0.181 +/- 0.004\n",
      "second_svpt: 0.097 +/- 0.002\n",
      "first_svpt: 0.091 +/- 0.003\n",
      "second_ioc: 0.017 +/- 0.001\n",
      "second_ace: 0.014 +/- 0.003\n",
      "second_1stIn: 0.012 +/- 0.001\n",
      "first_ace: 0.012 +/- 0.001\n",
      "first_1stIn: 0.005 +/- 0.002\n",
      "second_df: 0.005 +/- 0.001\n",
      "first_df: 0.004 +/- 0.001\n",
      "first_ioc: 0.004 +/- 0.001\n",
      "second_rank_points: 0.003 +/- 0.001\n",
      "first_rank_points: 0.003 +/- 0.002\n",
      "first_ht: 0.001 +/- 0.001\n",
      "second_ht: 0.001 +/- 0.001\n",
      "second_hand: 0.001 +/- 0.000\n",
      "first_rank: 0.000 +/- 0.001\n",
      "second_rank: 0.000 +/- 0.001\n",
      "second_age: 0.000 +/- 0.001\n",
      "first_age: 0.000 +/- 0.001\n",
      "best_of: -0.000 +/- 0.000\n",
      "first_hand: -0.000 +/- 0.001\n",
      "round: -0.000 +/- 0.000\n",
      "minutes: -0.000 +/- 0.000\n",
      "surface: -0.000 +/- 0.000\n",
      "draw_size: -0.001 +/- 0.000\n"
     ]
    }
   ],
   "source": [
    "result = permutation_importance(best_MLP, X_test, y_test, n_repeats=10, random_state=0)\n",
    "\n",
    "sorted_idx = result.importances_mean.argsort()[::-1]\n",
    "\n",
    "for idx in sorted_idx:\n",
    "    print(f\"{X_train.columns[idx]}: {result.importances_mean[idx]:.3f} +/- {result.importances_std[idx]:.3f}\")"
   ]
  },
  {
   "cell_type": "code",
   "execution_count": 63,
   "id": "ea92dc2c-8177-4c82-9640-16d9e7d89c20",
   "metadata": {},
   "outputs": [],
   "source": [
    "ATP_test_df = pd.read_csv('C:/Users/Mauri/Documents/Master Data Science and Society/Master Thesis DS&S/Data/Tennis Data Master Thesis/Thesis data section/Test/atp_matches_2022.csv')"
   ]
  },
  {
   "cell_type": "code",
   "execution_count": 64,
   "id": "c5256ede-439d-454b-8316-a23ff304ffb2",
   "metadata": {},
   "outputs": [],
   "source": [
    "ATP_test_df = ATP_test_df.drop(columns=['tourney_level', 'winner_seed','loser_seed','winner_entry','loser_entry'])  "
   ]
  },
  {
   "cell_type": "code",
   "execution_count": 65,
   "id": "572e5c32-9cfa-4973-be06-1120bec7dd55",
   "metadata": {
    "tags": []
   },
   "outputs": [
    {
     "name": "stdout",
     "output_type": "stream",
     "text": [
      "<class 'pandas.core.frame.DataFrame'>\n",
      "RangeIndex: 2917 entries, 0 to 2916\n",
      "Data columns (total 44 columns):\n",
      " #   Column              Non-Null Count  Dtype  \n",
      "---  ------              --------------  -----  \n",
      " 0   tourney_id          2917 non-null   object \n",
      " 1   tourney_name        2917 non-null   object \n",
      " 2   surface             2917 non-null   object \n",
      " 3   draw_size           2917 non-null   int64  \n",
      " 4   tourney_date        2917 non-null   int64  \n",
      " 5   match_num           2917 non-null   int64  \n",
      " 6   winner_id           2917 non-null   int64  \n",
      " 7   winner_name         2917 non-null   object \n",
      " 8   winner_hand         2915 non-null   object \n",
      " 9   winner_ht           2848 non-null   float64\n",
      " 10  winner_ioc          2917 non-null   object \n",
      " 11  winner_age          2915 non-null   float64\n",
      " 12  loser_id            2917 non-null   int64  \n",
      " 13  loser_name          2917 non-null   object \n",
      " 14  loser_hand          2914 non-null   object \n",
      " 15  loser_ht            2769 non-null   float64\n",
      " 16  loser_ioc           2917 non-null   object \n",
      " 17  loser_age           2914 non-null   float64\n",
      " 18  score               2917 non-null   object \n",
      " 19  best_of             2917 non-null   int64  \n",
      " 20  round               2917 non-null   object \n",
      " 21  minutes             2636 non-null   float64\n",
      " 22  w_ace               2745 non-null   float64\n",
      " 23  w_df                2745 non-null   float64\n",
      " 24  w_svpt              2745 non-null   float64\n",
      " 25  w_1stIn             2745 non-null   float64\n",
      " 26  w_1stWon            2745 non-null   float64\n",
      " 27  w_2ndWon            2745 non-null   float64\n",
      " 28  w_SvGms             2745 non-null   float64\n",
      " 29  w_bpSaved           2745 non-null   float64\n",
      " 30  w_bpFaced           2745 non-null   float64\n",
      " 31  l_ace               2745 non-null   float64\n",
      " 32  l_df                2745 non-null   float64\n",
      " 33  l_svpt              2745 non-null   float64\n",
      " 34  l_1stIn             2745 non-null   float64\n",
      " 35  l_1stWon            2745 non-null   float64\n",
      " 36  l_2ndWon            2745 non-null   float64\n",
      " 37  l_SvGms             2745 non-null   float64\n",
      " 38  l_bpSaved           2745 non-null   float64\n",
      " 39  l_bpFaced           2745 non-null   float64\n",
      " 40  winner_rank         2908 non-null   float64\n",
      " 41  winner_rank_points  2908 non-null   float64\n",
      " 42  loser_rank          2898 non-null   float64\n",
      " 43  loser_rank_points   2898 non-null   float64\n",
      "dtypes: float64(27), int64(6), object(11)\n",
      "memory usage: 1002.8+ KB\n"
     ]
    }
   ],
   "source": [
    "ATP_test_df.info()"
   ]
  },
  {
   "cell_type": "code",
   "execution_count": 66,
   "id": "d45f830c-988e-46e0-8365-ce876c801a2e",
   "metadata": {
    "tags": []
   },
   "outputs": [
    {
     "name": "stdout",
     "output_type": "stream",
     "text": [
      "          Feature name  None values count  None values percent\n",
      "0           tourney_id                  0             0.000000\n",
      "1         tourney_name                  0             0.000000\n",
      "2              surface                  0             0.000000\n",
      "3            draw_size                  0             0.000000\n",
      "4         tourney_date                  0             0.000000\n",
      "5            match_num                  0             0.000000\n",
      "6            winner_id                  0             0.000000\n",
      "7          winner_name                  0             0.000000\n",
      "8          winner_hand                  2             0.004311\n",
      "9            winner_ht                 69             0.148742\n",
      "10          winner_ioc                  0             0.000000\n",
      "11          winner_age                  2             0.004311\n",
      "12            loser_id                  0             0.000000\n",
      "13          loser_name                  0             0.000000\n",
      "14          loser_hand                  3             0.006467\n",
      "15            loser_ht                148             0.319041\n",
      "16           loser_ioc                  0             0.000000\n",
      "17           loser_age                  3             0.006467\n",
      "18               score                  0             0.000000\n",
      "19             best_of                  0             0.000000\n",
      "20               round                  0             0.000000\n",
      "21             minutes                281             0.605747\n",
      "22               w_ace                172             0.370778\n",
      "23                w_df                172             0.370778\n",
      "24              w_svpt                172             0.370778\n",
      "25             w_1stIn                172             0.370778\n",
      "26            w_1stWon                172             0.370778\n",
      "27            w_2ndWon                172             0.370778\n",
      "28             w_SvGms                172             0.370778\n",
      "29           w_bpSaved                172             0.370778\n",
      "30           w_bpFaced                172             0.370778\n",
      "31               l_ace                172             0.370778\n",
      "32                l_df                172             0.370778\n",
      "33              l_svpt                172             0.370778\n",
      "34             l_1stIn                172             0.370778\n",
      "35            l_1stWon                172             0.370778\n",
      "36            l_2ndWon                172             0.370778\n",
      "37             l_SvGms                172             0.370778\n",
      "38           l_bpSaved                172             0.370778\n",
      "39           l_bpFaced                172             0.370778\n",
      "40         winner_rank                  9             0.019401\n",
      "41  winner_rank_points                  9             0.019401\n",
      "42          loser_rank                 19             0.040958\n",
      "43   loser_rank_points                 19             0.040958\n"
     ]
    }
   ],
   "source": [
    "none_percent = ATP_test_df.isnull().sum() * 100 / len(train2_df)\n",
    "none_values_ATP_test_df = pd.DataFrame({'Feature name': ATP_test_df.columns, 'None values count': ATP_test_df.isnull().sum(),\n",
    "                                 'None values percent': none_percent})\n",
    "print(none_values_ATP_test_df.reset_index().drop(columns=['index']))"
   ]
  },
  {
   "cell_type": "code",
   "execution_count": 67,
   "id": "ba4a49dc-b029-444e-9131-44a95a70d432",
   "metadata": {
    "tags": []
   },
   "outputs": [
    {
     "name": "stdout",
     "output_type": "stream",
     "text": [
      "<class 'pandas.core.frame.DataFrame'>\n",
      "RangeIndex: 2628 entries, 0 to 2627\n",
      "Data columns (total 44 columns):\n",
      " #   Column              Non-Null Count  Dtype  \n",
      "---  ------              --------------  -----  \n",
      " 0   tourney_id          2628 non-null   object \n",
      " 1   tourney_name        2628 non-null   object \n",
      " 2   surface             2628 non-null   object \n",
      " 3   draw_size           2628 non-null   int64  \n",
      " 4   tourney_date        2628 non-null   int64  \n",
      " 5   match_num           2628 non-null   int64  \n",
      " 6   winner_id           2628 non-null   int64  \n",
      " 7   winner_name         2628 non-null   object \n",
      " 8   winner_hand         2628 non-null   object \n",
      " 9   winner_ht           2588 non-null   float64\n",
      " 10  winner_ioc          2628 non-null   object \n",
      " 11  winner_age          2628 non-null   float64\n",
      " 12  loser_id            2628 non-null   int64  \n",
      " 13  loser_name          2628 non-null   object \n",
      " 14  loser_hand          2628 non-null   object \n",
      " 15  loser_ht            2536 non-null   float64\n",
      " 16  loser_ioc           2628 non-null   object \n",
      " 17  loser_age           2627 non-null   float64\n",
      " 18  score               2628 non-null   object \n",
      " 19  best_of             2628 non-null   int64  \n",
      " 20  round               2628 non-null   object \n",
      " 21  minutes             2628 non-null   float64\n",
      " 22  w_ace               2615 non-null   float64\n",
      " 23  w_df                2615 non-null   float64\n",
      " 24  w_svpt              2615 non-null   float64\n",
      " 25  w_1stIn             2615 non-null   float64\n",
      " 26  w_1stWon            2615 non-null   float64\n",
      " 27  w_2ndWon            2615 non-null   float64\n",
      " 28  w_SvGms             2615 non-null   float64\n",
      " 29  w_bpSaved           2615 non-null   float64\n",
      " 30  w_bpFaced           2615 non-null   float64\n",
      " 31  l_ace               2615 non-null   float64\n",
      " 32  l_df                2615 non-null   float64\n",
      " 33  l_svpt              2615 non-null   float64\n",
      " 34  l_1stIn             2615 non-null   float64\n",
      " 35  l_1stWon            2615 non-null   float64\n",
      " 36  l_2ndWon            2615 non-null   float64\n",
      " 37  l_SvGms             2615 non-null   float64\n",
      " 38  l_bpSaved           2615 non-null   float64\n",
      " 39  l_bpFaced           2615 non-null   float64\n",
      " 40  winner_rank         2628 non-null   float64\n",
      " 41  winner_rank_points  2628 non-null   float64\n",
      " 42  loser_rank          2628 non-null   float64\n",
      " 43  loser_rank_points   2628 non-null   float64\n",
      "dtypes: float64(27), int64(6), object(11)\n",
      "memory usage: 903.5+ KB\n"
     ]
    }
   ],
   "source": [
    "ATP_test_df.dropna(subset=['winner_rank_points', 'loser_rank_points','winner_rank','loser_rank','winner_hand','minutes'], inplace=True)\n",
    "ATP_test2_df = ATP_test_df.reset_index(drop=True)\n",
    "ATP_test2_df.info()"
   ]
  },
  {
   "cell_type": "code",
   "execution_count": 68,
   "id": "25148c74-80b5-4f55-b171-6f5b98c19f43",
   "metadata": {},
   "outputs": [],
   "source": [
    "ATP_test2_df = ATP_test2_df.drop(columns=['l_SvGms', 'w_SvGms', 'tourney_id', 'tourney_name',\n",
    "                                    'winner_name', 'loser_name',])"
   ]
  },
  {
   "cell_type": "code",
   "execution_count": 69,
   "id": "b2978a30-0a20-43c5-aecf-73fc1106204b",
   "metadata": {},
   "outputs": [],
   "source": [
    "ATP_test2_df = ATP_test2_df.drop(columns=['tourney_date', 'score'])"
   ]
  },
  {
   "cell_type": "code",
   "execution_count": 70,
   "id": "97e6ee9c-6fce-41c6-b168-41662b3109dd",
   "metadata": {
    "tags": []
   },
   "outputs": [
    {
     "name": "stdout",
     "output_type": "stream",
     "text": [
      "<class 'pandas.core.frame.DataFrame'>\n",
      "RangeIndex: 2628 entries, 0 to 2627\n",
      "Data columns (total 36 columns):\n",
      " #   Column              Non-Null Count  Dtype  \n",
      "---  ------              --------------  -----  \n",
      " 0   surface             2628 non-null   object \n",
      " 1   draw_size           2628 non-null   int64  \n",
      " 2   match_num           2628 non-null   int64  \n",
      " 3   winner_id           2628 non-null   int64  \n",
      " 4   winner_hand         2628 non-null   int32  \n",
      " 5   winner_ht           2588 non-null   float64\n",
      " 6   winner_ioc          2628 non-null   int32  \n",
      " 7   winner_age          2628 non-null   float64\n",
      " 8   loser_id            2628 non-null   int64  \n",
      " 9   loser_hand          2628 non-null   int32  \n",
      " 10  loser_ht            2536 non-null   float64\n",
      " 11  loser_ioc           2628 non-null   int32  \n",
      " 12  loser_age           2627 non-null   float64\n",
      " 13  best_of             2628 non-null   int64  \n",
      " 14  round               2628 non-null   int32  \n",
      " 15  minutes             2628 non-null   float64\n",
      " 16  w_ace               2615 non-null   float64\n",
      " 17  w_df                2615 non-null   float64\n",
      " 18  w_svpt              2615 non-null   float64\n",
      " 19  w_1stIn             2615 non-null   float64\n",
      " 20  w_1stWon            2615 non-null   float64\n",
      " 21  w_2ndWon            2615 non-null   float64\n",
      " 22  w_bpSaved           2615 non-null   float64\n",
      " 23  w_bpFaced           2615 non-null   float64\n",
      " 24  l_ace               2615 non-null   float64\n",
      " 25  l_df                2615 non-null   float64\n",
      " 26  l_svpt              2615 non-null   float64\n",
      " 27  l_1stIn             2615 non-null   float64\n",
      " 28  l_1stWon            2615 non-null   float64\n",
      " 29  l_2ndWon            2615 non-null   float64\n",
      " 30  l_bpSaved           2615 non-null   float64\n",
      " 31  l_bpFaced           2615 non-null   float64\n",
      " 32  winner_rank         2628 non-null   float64\n",
      " 33  winner_rank_points  2628 non-null   float64\n",
      " 34  loser_rank          2628 non-null   float64\n",
      " 35  loser_rank_points   2628 non-null   float64\n",
      "dtypes: float64(25), int32(5), int64(5), object(1)\n",
      "memory usage: 687.9+ KB\n"
     ]
    }
   ],
   "source": [
    "hand_encoder = LabelEncoder()\n",
    "ATP_test2_df['loser_hand'] = hand_encoder.fit_transform(ATP_test2_df['loser_hand'].astype(str))\n",
    "ATP_test2_df['winner_hand'] = hand_encoder.transform(ATP_test2_df['winner_hand'].astype(str))\n",
    "\n",
    "ATP_test2_df['loser_ioc'] = LabelEncoder().fit_transform(ATP_test2_df['loser_ioc'].astype(str))\n",
    "ATP_test2_df['winner_ioc'] = LabelEncoder().fit_transform(ATP_test2_df['winner_ioc'].astype(str))\n",
    "\n",
    "ATP_test2_df['round'] = LabelEncoder().fit_transform(ATP_test2_df['round'].astype(str))\n",
    "\n",
    "ATP_test2_df.info()"
   ]
  },
  {
   "cell_type": "code",
   "execution_count": 71,
   "id": "dfbf2404-5378-4351-8366-0ba1541d0e62",
   "metadata": {},
   "outputs": [],
   "source": [
    "ATP_test2_df.loc[ATP_test2_df[\"surface\"] == \"Clay\", \"surface\"] = 0\n",
    "ATP_test2_df.loc[ATP_test2_df[\"surface\"] == \"Hard\", \"surface\"] = 1\n",
    "ATP_test2_df.loc[ATP_test2_df[\"surface\"] == \"Grass\", \"surface\"] = 2"
   ]
  },
  {
   "cell_type": "code",
   "execution_count": 72,
   "id": "694d84cc-fc62-4c80-b31b-afa6a3a90fdf",
   "metadata": {
    "tags": []
   },
   "outputs": [
    {
     "name": "stdout",
     "output_type": "stream",
     "text": [
      "<class 'pandas.core.frame.DataFrame'>\n",
      "RangeIndex: 2628 entries, 0 to 2627\n",
      "Data columns (total 36 columns):\n",
      " #   Column              Non-Null Count  Dtype  \n",
      "---  ------              --------------  -----  \n",
      " 0   surface             2628 non-null   float64\n",
      " 1   draw_size           2628 non-null   float64\n",
      " 2   match_num           2628 non-null   float64\n",
      " 3   winner_id           2628 non-null   float64\n",
      " 4   winner_hand         2628 non-null   float64\n",
      " 5   winner_ht           2628 non-null   float64\n",
      " 6   winner_ioc          2628 non-null   float64\n",
      " 7   winner_age          2628 non-null   float64\n",
      " 8   loser_id            2628 non-null   float64\n",
      " 9   loser_hand          2628 non-null   float64\n",
      " 10  loser_ht            2628 non-null   float64\n",
      " 11  loser_ioc           2628 non-null   float64\n",
      " 12  loser_age           2628 non-null   float64\n",
      " 13  best_of             2628 non-null   float64\n",
      " 14  round               2628 non-null   float64\n",
      " 15  minutes             2628 non-null   float64\n",
      " 16  w_ace               2628 non-null   float64\n",
      " 17  w_df                2628 non-null   float64\n",
      " 18  w_svpt              2628 non-null   float64\n",
      " 19  w_1stIn             2628 non-null   float64\n",
      " 20  w_1stWon            2628 non-null   float64\n",
      " 21  w_2ndWon            2628 non-null   float64\n",
      " 22  w_bpSaved           2628 non-null   float64\n",
      " 23  w_bpFaced           2628 non-null   float64\n",
      " 24  l_ace               2628 non-null   float64\n",
      " 25  l_df                2628 non-null   float64\n",
      " 26  l_svpt              2628 non-null   float64\n",
      " 27  l_1stIn             2628 non-null   float64\n",
      " 28  l_1stWon            2628 non-null   float64\n",
      " 29  l_2ndWon            2628 non-null   float64\n",
      " 30  l_bpSaved           2628 non-null   float64\n",
      " 31  l_bpFaced           2628 non-null   float64\n",
      " 32  winner_rank         2628 non-null   float64\n",
      " 33  winner_rank_points  2628 non-null   float64\n",
      " 34  loser_rank          2628 non-null   float64\n",
      " 35  loser_rank_points   2628 non-null   float64\n",
      "dtypes: float64(36)\n",
      "memory usage: 739.2 KB\n"
     ]
    }
   ],
   "source": [
    "ATP_test2_imputed = pd.DataFrame(SimpleImputer().fit_transform(ATP_test2_df))\n",
    "ATP_test2_imputed.columns = ATP_test2_df.columns\n",
    "ATP_test2_imputed.index = ATP_test2_df.index\n",
    "ATP_test2_df = ATP_test2_imputed.copy()\n",
    "\n",
    "ATP_test2_df.info()"
   ]
  },
  {
   "cell_type": "code",
   "execution_count": 73,
   "id": "5c23308d-53b4-42d8-ab9c-310dabbe17a5",
   "metadata": {},
   "outputs": [],
   "source": [
    "ATP_test2_df = ATP_test2_df.rename(columns={\"loser_age\": \"first_age\", \"loser_entry\": \"first_entry\", \"loser_hand\": \"first_hand\",\n",
    "                       \"loser_ht\": \"first_ht\", \"loser_id\": \"first_id\", \"loser_ioc\": \"first_ioc\",\n",
    "                       \"loser_rank\": \"first_rank\", \"loser_rank_points\": \"first_rank_points\",\n",
    "                       \"loser_seed\": \"first_seed\", \"l_ace\": \"first_ace\", \"l_df\": \"first_df\",\n",
    "                       \"l_svpt\": \"first_svpt\", \"l_1stIn\": \"first_1stIn\", \"l_1stWon\": \"first_1stWon\",\n",
    "                       \"l_2ndWon\": \"first_2ndWon\", \"l_bpSaved\": \"first_bpSaved\", \"l_bpFaced\": \"first_bpFaced\",   \n",
    "                \n",
    "                       \"winner_age\": \"second_age\", \"winner_entry\": \"second_entry\",\"winner_hand\": \"second_hand\",\n",
    "                       \"winner_ht\": \"second_ht\", \"winner_id\": \"second_id\", \"winner_ioc\": \"second_ioc\",\n",
    "                       \"winner_rank\": \"second_rank\", \"winner_rank_points\": \"second_rank_points\",\n",
    "                       \"winner_seed\": \"second_seed\", \"w_ace\": \"second_ace\", \"w_df\": \"second_df\",\n",
    "                       \"w_svpt\": \"second_svpt\", \"w_1stIn\": \"second_1stIn\", \"w_1stWon\": \"second_1stWon\",\n",
    "                       \"w_2ndWon\": \"second_2ndWon\", \"w_bpSaved\": \"second_bpSaved\", \"w_bpFaced\": \"second_bpFaced\"\n",
    "                       },)"
   ]
  },
  {
   "cell_type": "code",
   "execution_count": 74,
   "id": "1cb8a29a-4d9d-4cb4-b548-8ce432a2bd4f",
   "metadata": {},
   "outputs": [],
   "source": [
    "ATP_copy__df = ATP_test2_df.copy()\n",
    "ATP_copy__df[[ 'first_age','first_hand','first_ht','first_id','first_ioc','first_rank','first_rank_points', 'first_ace', 'first_df', 'first_svpt', 'first_1stIn', 'first_1stWon',\n",
    "            'first_2ndWon', 'first_bpSaved', 'first_bpFaced',\n",
    "            'second_age','second_hand','second_ht','second_id','second_ioc','second_rank','second_rank_points', 'second_ace', 'second_df', 'second_svpt', 'second_1stIn', 'second_1stWon',\n",
    "            'second_2ndWon', 'second_bpSaved', 'second_bpFaced']]\\\n",
    "=ATP_copy__df[['second_age','second_hand','second_ht','second_id','second_ioc','second_rank','second_rank_points','second_ace', 'second_df', 'second_svpt', 'second_1stIn', 'second_1stWon',\n",
    "            'second_2ndWon', 'second_bpSaved', 'second_bpFaced',\n",
    "            'first_age','first_hand','first_ht','first_id','first_ioc','first_rank','first_rank_points','first_ace', 'first_df', 'first_svpt', 'first_1stIn', 'first_1stWon',\n",
    "            'first_2ndWon', 'first_bpSaved', 'first_bpFaced']]"
   ]
  },
  {
   "cell_type": "code",
   "execution_count": 75,
   "id": "11cb4d7e-e86b-43e3-bab7-fed0913445e6",
   "metadata": {},
   "outputs": [],
   "source": [
    "winner_player2 = np.zeros(ATP_test2_df.shape[0]) # second player wins so label=0\n",
    "ATP_test2_df['label'] = winner_player2\n",
    "\n",
    "\n",
    "winner_player1 = np.ones(ATP_copy__df.shape[0]) # first player wins so label=1\n",
    "ATP_copy__df['label'] = winner_player1 \n",
    "\n",
    "ATP_test2_df = pd.concat([ATP_test2_df,ATP_copy__df])\n",
    "\n",
    "ATP_test3_df = ATP_test2_df.sample(frac=1).reset_index(drop=True)"
   ]
  },
  {
   "cell_type": "code",
   "execution_count": 76,
   "id": "0db49e3c-96c7-4bf5-ba35-6d00ccbd6974",
   "metadata": {},
   "outputs": [],
   "source": [
    "ATP_test3_df = ATP_test3_df.drop(columns=['first_id', 'second_id'])"
   ]
  },
  {
   "cell_type": "code",
   "execution_count": 77,
   "id": "95c46032-b884-46d0-b5c5-3fed961779fe",
   "metadata": {},
   "outputs": [],
   "source": [
    "ATP_test3_df = ATP_test3_df.drop_duplicates(subset=['match_num'])"
   ]
  },
  {
   "cell_type": "code",
   "execution_count": 78,
   "id": "ae2b3727-81cc-4a39-8205-889bbb8f9054",
   "metadata": {
    "tags": []
   },
   "outputs": [
    {
     "name": "stdout",
     "output_type": "stream",
     "text": [
      "<class 'pandas.core.frame.DataFrame'>\n",
      "Int64Index: 2628 entries, 0 to 5213\n",
      "Data columns (total 35 columns):\n",
      " #   Column              Non-Null Count  Dtype  \n",
      "---  ------              --------------  -----  \n",
      " 0   surface             2628 non-null   float64\n",
      " 1   draw_size           2628 non-null   float64\n",
      " 2   match_num           2628 non-null   float64\n",
      " 3   second_hand         2628 non-null   float64\n",
      " 4   second_ht           2628 non-null   float64\n",
      " 5   second_ioc          2628 non-null   float64\n",
      " 6   second_age          2628 non-null   float64\n",
      " 7   first_hand          2628 non-null   float64\n",
      " 8   first_ht            2628 non-null   float64\n",
      " 9   first_ioc           2628 non-null   float64\n",
      " 10  first_age           2628 non-null   float64\n",
      " 11  best_of             2628 non-null   float64\n",
      " 12  round               2628 non-null   float64\n",
      " 13  minutes             2628 non-null   float64\n",
      " 14  second_ace          2628 non-null   float64\n",
      " 15  second_df           2628 non-null   float64\n",
      " 16  second_svpt         2628 non-null   float64\n",
      " 17  second_1stIn        2628 non-null   float64\n",
      " 18  second_1stWon       2628 non-null   float64\n",
      " 19  second_2ndWon       2628 non-null   float64\n",
      " 20  second_bpSaved      2628 non-null   float64\n",
      " 21  second_bpFaced      2628 non-null   float64\n",
      " 22  first_ace           2628 non-null   float64\n",
      " 23  first_df            2628 non-null   float64\n",
      " 24  first_svpt          2628 non-null   float64\n",
      " 25  first_1stIn         2628 non-null   float64\n",
      " 26  first_1stWon        2628 non-null   float64\n",
      " 27  first_2ndWon        2628 non-null   float64\n",
      " 28  first_bpSaved       2628 non-null   float64\n",
      " 29  first_bpFaced       2628 non-null   float64\n",
      " 30  second_rank         2628 non-null   float64\n",
      " 31  second_rank_points  2628 non-null   float64\n",
      " 32  first_rank          2628 non-null   float64\n",
      " 33  first_rank_points   2628 non-null   float64\n",
      " 34  label               2628 non-null   float64\n",
      "dtypes: float64(35)\n",
      "memory usage: 739.1 KB\n"
     ]
    }
   ],
   "source": [
    "ATP_test3_df_imputed = pd.DataFrame(SimpleImputer().fit_transform(ATP_test3_df))\n",
    "ATP_test3_df_imputed.columns = ATP_test3_df.columns\n",
    "ATP_test3_df_imputed.index = ATP_test3_df.index\n",
    "ATP_test3_df = ATP_test3_df_imputed.copy()\n",
    "\n",
    "ATP_test3_df.info()"
   ]
  },
  {
   "cell_type": "code",
   "execution_count": 79,
   "id": "057cc460-4091-49aa-b1aa-805e98a9443a",
   "metadata": {},
   "outputs": [],
   "source": [
    "ATP_test3_df = ATP_test3_df.drop(columns=['first_1stWon', 'second_1stWon', 'first_2ndWon',\n",
    "                                    'second_2ndWon', 'first_bpSaved', 'second_bpSaved',\n",
    "                                    'match_num'])"
   ]
  },
  {
   "cell_type": "code",
   "execution_count": 80,
   "id": "7567fcac-8cbf-47a3-8eb2-4c793dee6531",
   "metadata": {},
   "outputs": [],
   "source": [
    "ATP_y = ATP_test3_df['label']\n",
    "ATP_X = ATP_test3_df.drop(columns='label')"
   ]
  },
  {
   "cell_type": "code",
   "execution_count": 81,
   "id": "3fb37513-18be-48d3-8e54-9b07b491c576",
   "metadata": {},
   "outputs": [
    {
     "name": "stdout",
     "output_type": "stream",
     "text": [
      "accuracy_SVM: 81.66%\n",
      "Precision: 80.91\n",
      "Recall: 82.40\n"
     ]
    }
   ],
   "source": [
    "accuracy_SVM = best_svm.score(ATP_X, ATP_y)\n",
    "print(\"accuracy_SVM: {:.2f}%\".format(accuracy_SVM * 100))\n",
    "\n",
    "y_pred_SVM_ATP = best_svm.predict(ATP_X)\n",
    "precision = precision_score(ATP_y, y_pred_SVM_ATP)\n",
    "recall = recall_score(ATP_y, y_pred_SVM_ATP)\n",
    "print(\"Precision: {:.2f}\".format(precision * 100))\n",
    "print(\"Recall: {:.2f}\".format(recall * 100))"
   ]
  },
  {
   "cell_type": "code",
   "execution_count": 82,
   "id": "38c403b0-96b8-48a2-a809-e0bd433744a1",
   "metadata": {},
   "outputs": [
    {
     "name": "stdout",
     "output_type": "stream",
     "text": [
      "[[1074  253]\n",
      " [ 229 1072]]\n"
     ]
    }
   ],
   "source": [
    "print(confusion_matrix(ATP_y,y_pred_SVM_ATP))"
   ]
  },
  {
   "cell_type": "code",
   "execution_count": 83,
   "id": "8a081c1d-b1a6-456a-8f47-2b2041effcd7",
   "metadata": {},
   "outputs": [
    {
     "name": "stdout",
     "output_type": "stream",
     "text": [
      "Accuracy_RF: 76.60%\n",
      "Precision: 75.56\n",
      "Recall: 77.94\n"
     ]
    }
   ],
   "source": [
    "accuracy_RF = best_RF.score(ATP_X, ATP_y)\n",
    "print(\"Accuracy_RF: {:.2f}%\".format(accuracy_RF * 100))\n",
    "\n",
    "y_pred_RF_ATP = best_RF.predict(ATP_X)\n",
    "precision = precision_score(ATP_y, y_pred_RF_ATP)\n",
    "recall = recall_score(ATP_y, y_pred_RF_ATP)\n",
    "print(\"Precision: {:.2f}\".format(precision * 100))\n",
    "print(\"Recall: {:.2f}\".format(recall * 100))"
   ]
  },
  {
   "cell_type": "code",
   "execution_count": 84,
   "id": "6a2a867f-4eb0-45c2-985d-717e041c060d",
   "metadata": {},
   "outputs": [
    {
     "name": "stdout",
     "output_type": "stream",
     "text": [
      "[[ 999  328]\n",
      " [ 287 1014]]\n"
     ]
    }
   ],
   "source": [
    "print(confusion_matrix(ATP_y,y_pred_RF_ATP))"
   ]
  },
  {
   "cell_type": "code",
   "execution_count": 87,
   "id": "6066e120-cf5e-4370-b87b-72a8cd7712f8",
   "metadata": {},
   "outputs": [
    {
     "name": "stdout",
     "output_type": "stream",
     "text": [
      "Accuracy_MLP: 81.81%\n",
      "Precision: 80.46\n",
      "Recall: 83.55\n"
     ]
    }
   ],
   "source": [
    "accuracy_MLP = best_MLP.score(ATP_X, ATP_y)\n",
    "print(\"Accuracy_MLP: {:.2f}%\".format(accuracy_MLP * 100))\n",
    "\n",
    "y_pred_MLP_ATP = best_MLP.predict(ATP_X)\n",
    "precision = precision_score(ATP_y, y_pred_MLP_ATP)\n",
    "recall = recall_score(ATP_y, y_pred_MLP_ATP)\n",
    "print(\"Precision: {:.2f}\".format(precision * 100))\n",
    "print(\"Recall: {:.2f}\".format(recall * 100))"
   ]
  },
  {
   "cell_type": "code",
   "execution_count": 88,
   "id": "04f5c577-caf8-4ad1-998f-2ed877f213b2",
   "metadata": {},
   "outputs": [
    {
     "name": "stdout",
     "output_type": "stream",
     "text": [
      "[[1063  264]\n",
      " [ 214 1087]]\n"
     ]
    }
   ],
   "source": [
    "print(confusion_matrix(ATP_y,y_pred_MLP_ATP))"
   ]
  }
 ],
 "metadata": {
  "kernelspec": {
   "display_name": "Python 3 (ipykernel)",
   "language": "python",
   "name": "python3"
  },
  "language_info": {
   "codemirror_mode": {
    "name": "ipython",
    "version": 3
   },
   "file_extension": ".py",
   "mimetype": "text/x-python",
   "name": "python",
   "nbconvert_exporter": "python",
   "pygments_lexer": "ipython3",
   "version": "3.9.7"
  }
 },
 "nbformat": 4,
 "nbformat_minor": 5
}
